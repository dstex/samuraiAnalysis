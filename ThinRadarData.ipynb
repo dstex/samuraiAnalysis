{
 "cells": [
  {
   "cell_type": "code",
   "execution_count": 1,
   "metadata": {
    "ExecuteTime": {
     "end_time": "2017-08-07T15:37:18.231216",
     "start_time": "2017-08-07T15:37:17.209066"
    },
    "collapsed": false,
    "run_control": {
     "frozen": false,
     "read_only": false
    }
   },
   "outputs": [],
   "source": [
    "import pyart\n",
    "import numpy as np\n",
    "import numpy.ma as ma\n",
    "import glob"
   ]
  },
  {
   "cell_type": "code",
   "execution_count": 2,
   "metadata": {
    "ExecuteTime": {
     "end_time": "2017-08-07T15:37:18.240328",
     "start_time": "2017-08-07T15:37:18.232712"
    },
    "collapsed": false
   },
   "outputs": [],
   "source": [
    "# dowPath = '/Users/danstechman/GoogleDrive/PECAN-Data/samurai/20150706/S3P6_D7D8_fsdabr/runDir/dow7/'\n",
    "dowPath = '/Users/danstechman/GoogleDrive/PECAN-Data/samurai/20150706/S3P6_D7D8_fsdabr/runDir/dow8/'\n",
    "\n",
    "files = glob.glob(dowPath + '*.nc')"
   ]
  },
  {
   "cell_type": "code",
   "execution_count": 3,
   "metadata": {
    "ExecuteTime": {
     "end_time": "2017-08-07T16:16:58.802076",
     "start_time": "2017-08-07T15:37:18.243150"
    },
    "collapsed": false
   },
   "outputs": [
    {
     "name": "stdout",
     "output_type": "stream",
     "text": [
      "Working on file 1 of 28...\n",
      "gateAvg = 2\n",
      "midGate = 1\n",
      "Working on file 2 of 28...\n",
      "gateAvg = 2\n",
      "midGate = 1\n",
      "Working on file 3 of 28...\n",
      "gateAvg = 2\n",
      "midGate = 1\n",
      "Working on file 4 of 28...\n",
      "gateAvg = 2\n",
      "midGate = 1\n",
      "Working on file 5 of 28...\n",
      "gateAvg = 2\n",
      "midGate = 1\n",
      "Working on file 6 of 28...\n",
      "gateAvg = 2\n",
      "midGate = 1\n",
      "Working on file 7 of 28...\n",
      "gateAvg = 2\n",
      "midGate = 1\n",
      "Working on file 8 of 28...\n",
      "gateAvg = 2\n",
      "midGate = 1\n",
      "Working on file 9 of 28...\n",
      "gateAvg = 2\n",
      "midGate = 1\n",
      "Working on file 10 of 28...\n",
      "gateAvg = 2\n",
      "midGate = 1\n",
      "Working on file 11 of 28...\n",
      "gateAvg = 2\n",
      "midGate = 1\n",
      "Working on file 12 of 28...\n",
      "gateAvg = 2\n",
      "midGate = 1\n",
      "Working on file 13 of 28...\n",
      "gateAvg = 2\n",
      "midGate = 1\n",
      "Working on file 14 of 28...\n",
      "gateAvg = 2\n",
      "midGate = 1\n",
      "Working on file 15 of 28...\n",
      "gateAvg = 2\n",
      "midGate = 1\n",
      "Working on file 16 of 28...\n",
      "gateAvg = 2\n",
      "midGate = 1\n",
      "Working on file 17 of 28...\n",
      "gateAvg = 2\n",
      "midGate = 1\n",
      "Working on file 18 of 28...\n",
      "gateAvg = 2\n",
      "midGate = 1\n",
      "Working on file 19 of 28...\n",
      "gateAvg = 2\n",
      "midGate = 1\n",
      "Working on file 20 of 28...\n",
      "gateAvg = 2\n",
      "midGate = 1\n",
      "Working on file 21 of 28...\n",
      "gateAvg = 2\n",
      "midGate = 1\n",
      "Working on file 22 of 28...\n",
      "gateAvg = 2\n",
      "midGate = 1\n",
      "Working on file 23 of 28...\n",
      "gateAvg = 2\n",
      "midGate = 1\n",
      "Working on file 24 of 28...\n",
      "gateAvg = 2\n",
      "midGate = 1\n",
      "Working on file 25 of 28...\n",
      "gateAvg = 2\n",
      "midGate = 1\n",
      "Working on file 26 of 28...\n",
      "gateAvg = 2\n",
      "midGate = 1\n",
      "Working on file 27 of 28...\n",
      "gateAvg = 2\n",
      "midGate = 1\n",
      "Working on file 28 of 28...\n",
      "gateAvg = 2\n",
      "midGate = 1\n"
     ]
    }
   ],
   "source": [
    "i = 1\n",
    "for file in files:\n",
    "\n",
    "    print('Working on file {} of {}...'.format(i,len(files)))\n",
    "    radar = pyart.io.read(file)\n",
    "    \n",
    "    DBZ1 = radar.fields['DBZ1']['data']\n",
    "    VG = radar.fields['VG']['data']\n",
    "    WIDTH = radar.fields['WIDTH']['data']\n",
    "    \n",
    "    dbzMod = ma.copy(DBZ1)\n",
    "    vgMod = ma.copy(VG)\n",
    "    widthMod = ma.copy(WIDTH)\n",
    "    \n",
    "    dbzMod[::2,:] = ma.masked\n",
    "    vgMod[::2,:] = ma.masked\n",
    "    widthMod[::2,:] = ma.masked\n",
    "\n",
    "    gateAvg = 3\n",
    "    midGate = int(gateAvg/2)\n",
    "    for ray in range(1,dbzMod.shape[0],2):\n",
    "        for gate in range(0,dbzMod.shape[1],gateAvg):\n",
    "            if gate+gateAvg > dbzMod.shape[1]:\n",
    "                gateAvg = dbzMod.shape[1] - gate\n",
    "                midGate = int(gateAvg/2)\n",
    "#                 print('gateAvg = {}\\nmidGate = {}'.format(gateAvg,midGate))\n",
    "            \n",
    "            dbzMod[ray,gate+midGate] = ma.average(dbzMod[ray,gate:gate+gateAvg])\n",
    "            vgMod[ray,gate+midGate] = ma.average(vgMod[ray,gate:gate+gateAvg])\n",
    "            widthMod[ray,gate+midGate] = ma.average(widthMod[ray,gate:gate+gateAvg])\n",
    "\n",
    "            crntSlice = np.arange(gate,gate+gateAvg)\n",
    "            excld = [n for n in crntSlice if n != gate+midGate]\n",
    "            dbzMod[ray,excld] = ma.masked\n",
    "            vgMod[ray,excld] = ma.masked\n",
    "            widthMod[ray,excld] = ma.masked\n",
    "    \n",
    "    radar.add_field_like('DBZ1','DBZ',dbzMod,replace_existing=True)\n",
    "    radar.add_field_like('VG','VGnew',vgMod,replace_existing=True)\n",
    "    radar.add_field_like('WIDTH','WIDTHnew',widthMod,replace_existing=True)\n",
    "    \n",
    "    newFN = file[:-3] + '_mod.nc'\n",
    "    pyart.io.write_cfradial(newFN,radar)\n",
    "    \n",
    "    i += 1"
   ]
  }
 ],
 "metadata": {
  "anaconda-cloud": {},
  "kernelspec": {
   "display_name": "Python [conda root]",
   "language": "python",
   "name": "conda-root-py"
  },
  "language_info": {
   "codemirror_mode": {
    "name": "ipython",
    "version": 3
   },
   "file_extension": ".py",
   "mimetype": "text/x-python",
   "name": "python",
   "nbconvert_exporter": "python",
   "pygments_lexer": "ipython3",
   "version": "3.5.2"
  }
 },
 "nbformat": 4,
 "nbformat_minor": 1
}
