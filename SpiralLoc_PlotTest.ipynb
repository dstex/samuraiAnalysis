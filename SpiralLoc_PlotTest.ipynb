{
 "cells": [
  {
   "cell_type": "code",
   "execution_count": 1,
   "metadata": {
    "ExecuteTime": {
     "end_time": "2018-07-03T19:02:02.457098Z",
     "start_time": "2018-07-03T19:01:58.965758Z"
    },
    "run_control": {
     "frozen": false,
     "read_only": false
    }
   },
   "outputs": [
    {
     "name": "stderr",
     "output_type": "stream",
     "text": [
      "/Users/danstechman/anaconda3/envs/py35/lib/python3.5/site-packages/cmocean/tools.py:76: MatplotlibDeprecationWarning: The is_string_like function was deprecated in version 2.1.\n",
      "  if not mpl.cbook.is_string_like(rgbin[0]):\n"
     ]
    }
   ],
   "source": [
    "from matplotlib import pyplot as plt\n",
    "import numpy as np\n",
    "import pyproj\n",
    "from datetime import datetime as dt\n",
    "from matplotlib.ticker import MultipleLocator\n",
    "\n",
    "from samuraiAnalysis import samImport,samPlt,getFLpathData\n",
    "\n",
    "getFLpathData = getFLpathData.getFLpathData\n",
    "samImport = samImport.samImport\n",
    "\n",
    "%matplotlib inline"
   ]
  },
  {
   "cell_type": "code",
   "execution_count": 2,
   "metadata": {
    "ExecuteTime": {
     "end_time": "2018-07-03T19:02:02.463249Z",
     "start_time": "2018-07-03T19:02:02.459236Z"
    },
    "run_control": {
     "frozen": false,
     "read_only": false
    }
   },
   "outputs": [],
   "source": [
    "flFile = '/Users/danstechman/GoogleDrive/PECAN-Data/FlightLevelData/Processed/20150620_FltLvl_Processed.nc'"
   ]
  },
  {
   "cell_type": "markdown",
   "metadata": {
    "run_control": {
     "frozen": false,
     "read_only": false
    }
   },
   "source": [
    "## Spiral 2"
   ]
  },
  {
   "cell_type": "code",
   "execution_count": 3,
   "metadata": {
    "ExecuteTime": {
     "end_time": "2018-07-03T19:02:03.819312Z",
     "start_time": "2018-07-03T19:02:02.466653Z"
    },
    "run_control": {
     "frozen": false,
     "read_only": false
    }
   },
   "outputs": [
    {
     "data": {
      "image/png": "[encoded data removed]",
      "text/plain": [
       "<Figure size 662.4x460.8 with 1 Axes>"
      ]
     },
     "metadata": {},
     "output_type": "display_data"
    }
   ],
   "source": [
    "startT2 = '20150620-050350'\n",
    "endT2 = '20150620-051303'\n",
    "\n",
    "lat2_0 = 44.530\n",
    "lon2_0 = -102.3462\n",
    "\n",
    "# xsAngleD2 = -12.5653\n",
    "xsAngleD2 = 0\n",
    "\n",
    "xsAngle2 = np.deg2rad(xsAngleD2)\n",
    "\n",
    "savePath2 = '/Users/danstechman/GoogleDrive/PECAN-Data/samurai/20150620/s2_udx/figs/xs_fltTrx_ref/'\n",
    "\n",
    "samFileMaster2 = '/Users/danstechman/GoogleDrive/PECAN-Data/samurai/20150620/s2_udx/output/samurai_XYZ_analysis.nc'\n",
    "samDataMaster2 = samImport(samFileMaster2)\n",
    "\n",
    "lat1d2 = samDataMaster2['lat']\n",
    "lon1d2 = samDataMaster2['lon']\n",
    "x1d2 = samDataMaster2['x']\n",
    "y1d2 = samDataMaster2['y']\n",
    "alt1d2 = samDataMaster2['alt']\n",
    "\n",
    "\n",
    "flS2 = dt.strptime(startT2,'%Y%m%d-%H%M%S')\n",
    "flE2 = dt.strptime(endT2,'%Y%m%d-%H%M%S')\n",
    "\n",
    "flData2 = getFLpathData(flFile,pathStrt=flS2,pathEnd=flE2)\n",
    "\n",
    "flLat2 = flData2['lat']\n",
    "flLon2 = flData2['lon']\n",
    "flAlt2_msl = flData2['alt']\n",
    "\n",
    "flAlt2_elevAdj = 790 # Elevation at spiral location\n",
    "flAlt2 = flAlt2_msl - flAlt2_elevAdj\n",
    "\n",
    "p2 = pyproj.Proj(proj='laea',ellps='WGS84',lat_0=lat2_0,lon_0=lon2_0)\n",
    "\n",
    "fl_x2,fl_y2 = p2(flLon2,flLat2)\n",
    "\n",
    "flX_rot2 = ((fl_x2 * np.cos(xsAngle2)) + (fl_y2 * np.sin(xsAngle2)))/1000\n",
    "flY_rot2 = ((fl_y2 * np.cos(xsAngle2)) - (fl_x2 * np.sin(xsAngle2)))/1000\n",
    "\n",
    "fig = plt.figure(figsize=(9.2,6.4))\n",
    "ax = fig.add_subplot(111)\n",
    "plt.plot(flX_rot2,flAlt2/1000,color='k',linewidth=3)\n",
    "plt.plot(flX_rot2,flAlt2/1000,color='w',linewidth=1)\n",
    "ax.set_xlim((-50,50))\n",
    "ax.set_ylim((0,16))\n",
    "ax.xaxis.set_major_locator(MultipleLocator(5))\n",
    "ax.xaxis.set_minor_locator(MultipleLocator(1))\n",
    "ax.tick_params(labelsize=12)\n",
    "# saveStr2 = '{}/s2_diagXS_fltTrk.pdf'.format(savePath2)\n",
    "saveStr2 = '{}/s2_weXS_fltTrk.pdf'.format(savePath2)\n",
    "fig.savefig(saveStr2, transparent=True,bbox_inches='tight')"
   ]
  },
  {
   "cell_type": "markdown",
   "metadata": {
    "run_control": {
     "frozen": false,
     "read_only": false
    }
   },
   "source": [
    "## Spiral 5"
   ]
  },
  {
   "cell_type": "code",
   "execution_count": 4,
   "metadata": {
    "ExecuteTime": {
     "end_time": "2018-07-03T19:02:05.176296Z",
     "start_time": "2018-07-03T19:02:03.822034Z"
    },
    "run_control": {
     "frozen": false,
     "read_only": false
    }
   },
   "outputs": [
    {
     "data": {
      "image/png": "[encoded data removed]",
      "text/plain": [
       "<Figure size 662.4x460.8 with 1 Axes>"
      ]
     },
     "metadata": {},
     "output_type": "display_data"
    }
   ],
   "source": [
    "startT5 = '20150620-060437'\n",
    "endT5 = '20150620-062248'\n",
    "\n",
    "lat5_0 = 44.2180\n",
    "lon5_0 = -100.9570\n",
    "\n",
    "# xsAngleD5 = -44.3883\n",
    "xsAngleD5 = 0\n",
    "\n",
    "xsAngle5 = np.deg2rad(xsAngleD5)\n",
    "\n",
    "savePath5 = '/Users/danstechman/GoogleDrive/PECAN-Data/samurai/20150620/s5_udxabr/figs/xs_fltTrx_ref/'\n",
    "\n",
    "samFileMaster5 = '/Users/danstechman/GoogleDrive/PECAN-Data/samurai/20150620/s5_udxabr/output/samurai_XYZ_analysis.nc'\n",
    "samDataMaster5 = samImport(samFileMaster5)\n",
    "\n",
    "lat1d5 = samDataMaster5['lat']\n",
    "lon1d5 = samDataMaster5['lon']\n",
    "x1d5 = samDataMaster5['x']\n",
    "y1d5 = samDataMaster5['y']\n",
    "alt1d5 = samDataMaster5['alt']\n",
    "\n",
    "\n",
    "flS5 = dt.strptime(startT5,'%Y%m%d-%H%M%S')\n",
    "flE5 = dt.strptime(endT5,'%Y%m%d-%H%M%S')\n",
    "\n",
    "flData5 = getFLpathData(flFile,pathStrt=flS5,pathEnd=flE5)\n",
    "\n",
    "flLat5 = flData5['lat']\n",
    "flLon5 = flData5['lon']\n",
    "flAlt5_msl = flData5['alt']\n",
    "\n",
    "flAlt5_elevAdj = 630 # Elevation at spiral location\n",
    "flAlt5 = flAlt5_msl - flAlt5_elevAdj\n",
    "\n",
    "\n",
    "p5 = pyproj.Proj(proj='laea',ellps='WGS84',lat_0=lat5_0,lon_0=lon5_0)\n",
    "\n",
    "fl_x5,fl_y5 = p5(flLon5,flLat5)\n",
    "\n",
    "flX_rot5 = ((fl_x5 * np.cos(xsAngle5)) + (fl_y5 * np.sin(xsAngle5)))/1000\n",
    "flY_rot5 = ((fl_y5 * np.cos(xsAngle5)) - (fl_x5 * np.sin(xsAngle5)))/1000\n",
    "\n",
    "fig = plt.figure(figsize=(9.2,6.4))\n",
    "ax = fig.add_subplot(111)\n",
    "plt.plot(flX_rot5,flAlt5/1000,color='k',linewidth=3)\n",
    "plt.plot(flX_rot5,flAlt5/1000,color='w',linewidth=1)\n",
    "ax.set_xlim((-50,50))\n",
    "ax.set_ylim((0,16))\n",
    "ax.xaxis.set_major_locator(MultipleLocator(5))\n",
    "ax.xaxis.set_minor_locator(MultipleLocator(1))\n",
    "ax.tick_params(labelsize=12)\n",
    "# saveStr5 = '{}/s5_diagXS_fltTrk.pdf'.format(savePath5)\n",
    "saveStr5 = '{}/s5_weXS_fltTrk.pdf'.format(savePath5)\n",
    "fig.savefig(saveStr5, transparent=True,bbox_inches='tight')"
   ]
  },
  {
   "cell_type": "markdown",
   "metadata": {
    "run_control": {
     "frozen": false,
     "read_only": false
    }
   },
   "source": [
    "## Spiral 7"
   ]
  },
  {
   "cell_type": "code",
   "execution_count": 5,
   "metadata": {
    "ExecuteTime": {
     "end_time": "2018-07-03T19:02:06.486119Z",
     "start_time": "2018-07-03T19:02:05.178572Z"
    },
    "run_control": {
     "frozen": false,
     "read_only": false
    }
   },
   "outputs": [
    {
     "data": {
      "image/png": "[encoded data removed]",
      "text/plain": [
       "<Figure size 662.4x460.8 with 1 Axes>"
      ]
     },
     "metadata": {},
     "output_type": "display_data"
    }
   ],
   "source": [
    "startT7 = '20150620-074547'\n",
    "endT7 = '20150620-075822'\n",
    "\n",
    "lat7_0 = 43.8385\n",
    "lon7_0 = -98.2041\n",
    "\n",
    "# xsAngleD7 = -28.5112\n",
    "xsAngleD7 = 0\n",
    "\n",
    "xsAngle7 = np.deg2rad(xsAngleD7)\n",
    "\n",
    "savePath7 = '/Users/danstechman/GoogleDrive/PECAN-Data/samurai/20150620/s7_fsdabr/figs/xs_fltTrx_ref/'\n",
    "\n",
    "samFileMaster7 = '/Users/danstechman/GoogleDrive/PECAN-Data/samurai/20150620/s7_fsdabr/output/samurai_XYZ_analysis.nc'\n",
    "samDataMaster7 = samImport(samFileMaster7)\n",
    "\n",
    "lat1d7 = samDataMaster7['lat']\n",
    "lon1d7 = samDataMaster7['lon']\n",
    "x1d7 = samDataMaster7['x']\n",
    "y1d7 = samDataMaster7['y']\n",
    "alt1d7 = samDataMaster7['alt']\n",
    "\n",
    "\n",
    "flS7 = dt.strptime(startT7,'%Y%m%d-%H%M%S')\n",
    "flE7 = dt.strptime(endT7,'%Y%m%d-%H%M%S')\n",
    "\n",
    "flData7 = getFLpathData(flFile,pathStrt=flS7,pathEnd=flE7)\n",
    "\n",
    "flLat7 = flData7['lat']\n",
    "flLon7 = flData7['lon']\n",
    "flAlt7 = flData7['alt']\n",
    "flAlt7_msl = flData7['alt']\n",
    "\n",
    "flAlt7_elevAdj = 400 # Elevation at spiral location\n",
    "flAlt7 = flAlt7_msl - flAlt7_elevAdj\n",
    "\n",
    "\n",
    "p7 = pyproj.Proj(proj='laea',ellps='WGS84',lat_0=lat7_0,lon_0=lon7_0)\n",
    "\n",
    "fl_x7,fl_y7 = p7(flLon7,flLat7)\n",
    "\n",
    "flX_rot7 = ((fl_x7 * np.cos(xsAngle7)) + (fl_y7 * np.sin(xsAngle7)))/1000\n",
    "flY_rot7 = ((fl_y7 * np.cos(xsAngle7)) - (fl_x7 * np.sin(xsAngle7)))/1000\n",
    "\n",
    "fig = plt.figure(figsize=(9.2,6.4))\n",
    "ax = fig.add_subplot(111)\n",
    "plt.plot(flX_rot7,flAlt7/1000,color='k',linewidth=3)\n",
    "plt.plot(flX_rot7,flAlt7/1000,color='w',linewidth=1)\n",
    "ax.set_xlim((-50,50))\n",
    "ax.set_ylim((0,16))\n",
    "ax.xaxis.set_major_locator(MultipleLocator(5))\n",
    "ax.xaxis.set_minor_locator(MultipleLocator(1))\n",
    "ax.tick_params(labelsize=12)\n",
    "# saveStr7 = '{}/s7_diagXS_fltTrk.pdf'.format(savePath7)\n",
    "saveStr7 = '{}/s7_weXS_fltTrk.pdf'.format(savePath7)\n",
    "fig.savefig(saveStr7, transparent=True,bbox_inches='tight')"
   ]
  }
 ],
 "metadata": {
  "anaconda-cloud": {},
  "kernelspec": {
   "display_name": "Python 3",
   "language": "python",
   "name": "python3"
  },
  "language_info": {
   "codemirror_mode": {
    "name": "ipython",
    "version": 3
   },
   "file_extension": ".py",
   "mimetype": "text/x-python",
   "name": "python",
   "nbconvert_exporter": "python",
   "pygments_lexer": "ipython3",
   "version": "3.5.5"
  },
  "varInspector": {
   "cols": {
    "lenName": 16,
    "lenType": 16,
    "lenVar": 40
   },
   "kernels_config": {
    "python": {
     "delete_cmd_postfix": "",
     "delete_cmd_prefix": "del ",
     "library": "var_list.py",
     "varRefreshCmd": "print(var_dic_list())"
    },
    "r": {
     "delete_cmd_postfix": ") ",
     "delete_cmd_prefix": "rm(",
     "library": "var_list.r",
     "varRefreshCmd": "cat(var_dic_list()) "
    }
   },
   "types_to_exclude": [
    "module",
    "function",
    "builtin_function_or_method",
    "instance",
    "_Feature"
   ],
   "window_display": false
  }
 },
 "nbformat": 4,
 "nbformat_minor": 1
}
