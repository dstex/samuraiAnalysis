{
 "cells": [
  {
   "cell_type": "code",
   "execution_count": null,
   "metadata": {
    "ExecuteTime": {
     "end_time": "2017-08-01T14:15:03.740093",
     "start_time": "2017-08-01T14:15:03.305950"
    },
    "collapsed": false,
    "run_control": {
     "frozen": false,
     "read_only": false
    }
   },
   "outputs": [],
   "source": [
    "from netCDF4 import Dataset\n",
    "from datetime import datetime as dt\n",
    "import numpy as np"
   ]
  },
  {
   "cell_type": "code",
   "execution_count": null,
   "metadata": {
    "collapsed": true
   },
   "outputs": [],
   "source": [
    "# Enter the start and end time of your analysis period\n",
    "# Use a format of 'YYYYMMDD_HHMMSS'\n",
    "strtTime = '20150706_041743'\n",
    "endTime = '20150706_042336'\n",
    "\n",
    "# Enter the full file path of your flight-level file (NOAA-HRD netCDF format)\n",
    "flFile = '/Users/danstechman/GoogleDrive/PECAN-Data/FlightLevelData/20150706I1_AC.nc'"
   ]
  },
  {
   "cell_type": "code",
   "execution_count": null,
   "metadata": {
    "ExecuteTime": {
     "end_time": "2017-08-01T14:15:03.758933",
     "start_time": "2017-08-01T14:15:03.741573"
    },
    "collapsed": false
   },
   "outputs": [],
   "source": [
    "def timeCalc(strtTime,endTime):\n",
    "    dtStrt = dt.strptime(strtTime,'%Y%m%d_%H%M%S')\n",
    "    dtEnd = dt.strptime(endTime,'%Y%m%d_%H%M%S')\n",
    "\n",
    "    timeDiff = dtEnd - dtStrt\n",
    "    originT = timeDiff/2\n",
    "    originTfull = dtStrt+originT\n",
    "\n",
    "    return timeDiff,originT,originTfull"
   ]
  },
  {
   "cell_type": "code",
   "execution_count": null,
   "metadata": {
    "ExecuteTime": {
     "end_time": "2017-08-01T14:15:03.793488",
     "start_time": "2017-08-01T14:15:03.761903"
    },
    "collapsed": true
   },
   "outputs": [],
   "source": [
    "def latLonOrigin(originTsecMidnt,flFile):\n",
    "    flData = Dataset(flFile,'r')\n",
    "    flLat = flData.variables['LatGPS.3'][:].filled()\n",
    "    flLon = flData.variables['LonGPS.3'][:].filled()\n",
    "    flHH = flData.variables['HH'][:]\n",
    "    flMM = flData.variables['MM'][:]\n",
    "    flSS = flData.variables['SS'][:]\n",
    "    flSecs = flHH*3600 + flMM*60 + flSS\n",
    "    \n",
    "    matchIx = np.where(flSecs == originTsecMidnt)\n",
    "    \n",
    "    latOrigin = flLat[matchIx][0]\n",
    "    lonOrigin = flLon[matchIx][0]\n",
    "    \n",
    "    return latOrigin, lonOrigin"
   ]
  },
  {
   "cell_type": "code",
   "execution_count": null,
   "metadata": {
    "ExecuteTime": {
     "end_time": "2017-08-01T14:15:04.021173",
     "start_time": "2017-08-01T14:15:03.796641"
    },
    "collapsed": false,
    "scrolled": true
   },
   "outputs": [],
   "source": [
    "timeDiff,originT,originTfull = timeCalc(strtTime,endTime)\n",
    "originTsecMidnt = int((originTfull - originTfull.replace(hour=0, minute=0, second=0)).total_seconds())\n",
    "\n",
    "latOrigin,lonOrigin = latLonOrigin(originTsecMidnt,flFile)\n",
    "\n",
    "print( 'Duration of linear track: {} sec'.format(int(timeDiff.total_seconds())))\n",
    "print( 'Origin time (mid-point) of linear track: {} sec'.format(int(originT.total_seconds())))\n",
    "print( 'Reference time: {:%H:%M:%S}'.format(originTfull))\n",
    "print( '\\nLatitude at origin time: {:.4f}'.format(latOrigin))\n",
    "print( 'Longitude at origin time: {:.4f}'.format(lonOrigin))"
   ]
  }
 ],
 "metadata": {
  "anaconda-cloud": {},
  "kernelspec": {
   "display_name": "Python [conda root]",
   "language": "python",
   "name": "conda-root-py"
  },
  "language_info": {
   "codemirror_mode": {
    "name": "ipython",
    "version": 3
   },
   "file_extension": ".py",
   "mimetype": "text/x-python",
   "name": "python",
   "nbconvert_exporter": "python",
   "pygments_lexer": "ipython3",
   "version": "3.5.2"
  }
 },
 "nbformat": 4,
 "nbformat_minor": 1
}
