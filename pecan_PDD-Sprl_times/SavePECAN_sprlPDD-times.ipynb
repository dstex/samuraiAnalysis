{
 "cells": [
  {
   "cell_type": "code",
   "execution_count": 1,
   "metadata": {
    "ExecuteTime": {
     "end_time": "2017-09-27T13:32:56.994040",
     "start_time": "2017-09-27T13:32:56.447471"
    },
    "collapsed": false,
    "run_control": {
     "frozen": false,
     "read_only": false
    }
   },
   "outputs": [],
   "source": [
    "import numpy as np\n",
    "from datetime import datetime as dt"
   ]
  },
  {
   "cell_type": "code",
   "execution_count": 2,
   "metadata": {
    "ExecuteTime": {
     "end_time": "2017-09-27T13:33:00.014603",
     "start_time": "2017-09-27T13:32:59.938851"
    },
    "collapsed": false,
    "run_control": {
     "frozen": false,
     "read_only": false
    }
   },
   "outputs": [],
   "source": [
    "# 20150617\n",
    "# PDDs\n",
    "I11P_strtT = ['20150617-023432','20150617-024111','20150617-030027','20150617-033636','20150617-040845',\n",
    "            '20150617-042703','20150617-052802','20150617-055819','20150617-065112','20150617-071406']\n",
    "I11P_strtDT = np.asarray([dt.strptime(fDate,'%Y%m%d-%H%M%S') for fDate in I11P_strtT])\n",
    "I11P_endT = ['20150617-024047','20150617-025353','20150617-031723','20150617-035507','20150617-041804',\n",
    "            '20150617-043642','20150617-053842','20150617-060406','20150617-065635','20150617-071936']\n",
    "I11P_endDT = np.asarray([dt.strptime(fDate,'%Y%m%d-%H%M%S') for fDate in I11P_endT])\n",
    "\n",
    "# Spirals\n",
    "I11S_strtT = ['20150617-035643','20150617-043910','20150617-050936','20150617-053913',\n",
    "            '20150617-060406','20150617-063308','20150617-065635']\n",
    "I11S_strtDT = np.asarray([dt.strptime(fDate,'%Y%m%d-%H%M%S') for fDate in I11S_strtT])\n",
    "I11S_endT = ['20150617-040837','20150617-045908','20150617-052617','20150617-055720',\n",
    "            '20150617-062145','20150617-064930','20150617-071135']\n",
    "I11S_endDT = np.asarray([dt.strptime(fDate,'%Y%m%d-%H%M%S') for fDate in I11S_endT])\n",
    "\n",
    "\n",
    "\n",
    "I11_out = {'I11P_strtDT': I11P_strtDT, 'I11P_endDT': I11P_endDT,\n",
    "          'I11S_strtDT': I11S_strtDT, 'I11S_endDT': I11S_endDT}\n",
    "\n",
    "np.save('/Users/danstechman/GoogleDrive/School/Research/PECAN/Radar/code/samuraiAnalysis/pecan_PDD-Sprl_times/20150617_pddSprl_times.npy',I11_out)"
   ]
  },
  {
   "cell_type": "code",
   "execution_count": 2,
   "metadata": {
    "ExecuteTime": {
     "end_time": "2017-06-02T11:18:54.916841",
     "start_time": "2017-06-02T11:18:54.895526"
    },
    "collapsed": false,
    "run_control": {
     "frozen": false,
     "read_only": false
    }
   },
   "outputs": [],
   "source": [
    "# 20150620\n",
    "# PDDs\n",
    "U4P_strtT = ['20150620-041149','20150620-044515','20150620-051401','20150620-053809',\n",
    "            '20150620-062147','20150620-064713','20150620-070900','20150620-072818']\n",
    "U4P_strtDT = np.asarray([dt.strptime(fDate,'%Y%m%d-%H%M%S') for fDate in U4P_strtT])\n",
    "U4P_endT = ['20150620-044322','20150620-045515','20150620-052135','20150620-054718',\n",
    "           '20150620-063756','20150620-070829','20150620-072614','20150620-074613']\n",
    "U4P_endDT = np.asarray([dt.strptime(fDate,'%Y%m%d-%H%M%S') for fDate in U4P_endT])\n",
    "\n",
    "# Spirals\n",
    "U4S_strtT = ['20150620-045557','20150620-050350','20150620-052124','20150620-054725',\n",
    "            '20150620-060437','20150620-063810','20150620-074547']\n",
    "U4S_strtDT = np.asarray([dt.strptime(fDate,'%Y%m%d-%H%M%S') for fDate in U4S_strtT])\n",
    "U4S_endT = ['20150620-050349','20150620-051303','20150620-053707','20150620-060346',\n",
    "           '20150620-062248','20150620-064731','20150620-075822']\n",
    "U4S_endDT = np.asarray([dt.strptime(fDate,'%Y%m%d-%H%M%S') for fDate in U4S_endT])\n",
    "\n",
    "\n",
    "\n",
    "U4_out = {'U4P_strtDT': U4P_strtDT, 'U4P_endDT': U4P_endDT,\n",
    "          'U4S_strtDT': U4S_strtDT, 'U4S_endDT': U4S_endDT}\n",
    "\n",
    "np.save('/Users/danstechman/GoogleDrive/School/Research/PECAN/Radar/code/samuraiAnalysis/pecan_PDD-Sprl_times/20150620_pddSprl_times.npy',U4_out)"
   ]
  },
  {
   "cell_type": "code",
   "execution_count": 3,
   "metadata": {
    "ExecuteTime": {
     "end_time": "2017-09-27T13:38:01.654431",
     "start_time": "2017-09-27T13:38:01.581289"
    },
    "collapsed": false,
    "run_control": {
     "frozen": false,
     "read_only": false
    }
   },
   "outputs": [],
   "source": [
    "# 20150701\n",
    "# PDDs\n",
    "I17P_strtT = ['20150701-045021','20150701-055407','20150701-062038','20150701-063615','20150701-070030',\n",
    "             '20150701-071139','20150701-071958','20150701-073958','20150701-080224','20150701-082238',\n",
    "             '20150701-083648']\n",
    "I17P_strtDT = np.asarray([dt.strptime(fDate,'%Y%m%d-%H%M%S') for fDate in I17P_strtT])\n",
    "I17P_endT = ['20150701-053357','20150701-060501','20150701-063459','20150701-065912','20150701-071019',\n",
    "            '20150701-071838','20150701-073839','20150701-080111','20150701-082052','20150701-083618',\n",
    "            '20150701-085200']\n",
    "I17P_endDT = np.asarray([dt.strptime(fDate,'%Y%m%d-%H%M%S') for fDate in I17P_endT])\n",
    "\n",
    "# Spirals\n",
    "I17S_strtT = ['20150701-060442']\n",
    "I17S_strtDT = np.asarray([dt.strptime(fDate,'%Y%m%d-%H%M%S') for fDate in I17S_strtT])\n",
    "I17S_endT = ['20150701-062038']\n",
    "I17S_endDT = np.asarray([dt.strptime(fDate,'%Y%m%d-%H%M%S') for fDate in I17S_endT])\n",
    "\n",
    "\n",
    "\n",
    "I17_out = {'I17P_strtDT': I17P_strtDT, 'I17P_endDT': I17P_endDT,\n",
    "          'I17S_strtDT': I17S_strtDT, 'I17S_endDT': I17S_endDT}\n",
    "\n",
    "np.save('/Users/danstechman/GoogleDrive/School/Research/PECAN/Radar/code/samuraiAnalysis/pecan_PDD-Sprl_times/20150701_pddSprl_times.npy',I17_out)"
   ]
  },
  {
   "cell_type": "code",
   "execution_count": 4,
   "metadata": {
    "ExecuteTime": {
     "end_time": "2017-09-27T14:02:39.511008",
     "start_time": "2017-09-27T14:02:39.458011"
    },
    "collapsed": false,
    "run_control": {
     "frozen": false,
     "read_only": false
    }
   },
   "outputs": [],
   "source": [
    "# 20150702\n",
    "# PDDs\n",
    "U8AP_strtT = ['20150702-025003','20150702-033607','20150702-040452','20150702-043500','20150702-050257',\n",
    "              '20150702-054253','20150702-062100']\n",
    "U8AP_strtDT = np.asarray([dt.strptime(fDate,'%Y%m%d-%H%M%S') for fDate in U8AP_strtT])\n",
    "U8AP_endT = ['20150702-031534','20150702-034215','20150702-041550','20150702-044212','20150702-054137',\n",
    "              '20150702-061943','20150702-065937']\n",
    "U8AP_endDT = np.asarray([dt.strptime(fDate,'%Y%m%d-%H%M%S') for fDate in U8AP_endT])\n",
    "\n",
    "# Spirals\n",
    "U8AS_strtT = ['20150702-034216','20150702-041550','20150702-044132']\n",
    "U8AS_strtDT = np.asarray([dt.strptime(fDate,'%Y%m%d-%H%M%S') for fDate in U8AS_strtT])\n",
    "U8AS_endT = ['20150702-040231','20150702-043501','20150702-050316']\n",
    "U8AS_endDT = np.asarray([dt.strptime(fDate,'%Y%m%d-%H%M%S') for fDate in U8AS_endT])\n",
    "\n",
    "\n",
    "\n",
    "U8A_out = {'U8AP_strtDT': U8AP_strtDT, 'U8AP_endDT': U8AP_endDT,\n",
    "          'U8AS_strtDT': U8AS_strtDT, 'U8AS_endDT': U8AS_endDT}\n",
    "\n",
    "np.save('/Users/danstechman/GoogleDrive/School/Research/PECAN/Radar/code/samuraiAnalysis/pecan_PDD-Sprl_times/20150702_pddSprl_times.npy',U8A_out)"
   ]
  },
  {
   "cell_type": "code",
   "execution_count": 17,
   "metadata": {
    "ExecuteTime": {
     "end_time": "2017-05-18T12:05:50.490560",
     "start_time": "2017-05-18T12:05:50.473371"
    },
    "collapsed": false,
    "run_control": {
     "frozen": false,
     "read_only": false
    }
   },
   "outputs": [],
   "source": [
    "# 20150706\n",
    "# PDDs\n",
    "I20P_strtT = ['20150706-015628','20150706-025109','20150706-031216','20150706-034610',\n",
    "              '20150706-040115','20150706-041740','20150706-045600','20150706-051818',\n",
    "              '20150706-061517','20150706-070004']\n",
    "I20P_strtDT = np.asarray([dt.strptime(fDate,'%Y%m%d-%H%M%S') for fDate in I20P_strtT])\n",
    "I20P_endT = ['20150706-021900','20150706-031035','20150706-032103','20150706-035612',\n",
    "             '20150706-041620','20150706-042340','20150706-051457','20150706-054001',\n",
    "             '20150706-062230','20150706-073103']\n",
    "I20P_endDT = np.asarray([dt.strptime(fDate,'%Y%m%d-%H%M%S') for fDate in I20P_endT])\n",
    "\n",
    "# Spirals\n",
    "I20S_strtT = ['20150706-031947','20150706-033053','20150706-042344','20150706-044005',\n",
    "              '20150706-054019','20150706-055624','20150706-062230','20150706-063759']\n",
    "I20S_strtDT = np.asarray([dt.strptime(fDate,'%Y%m%d-%H%M%S') for fDate in I20S_strtT])\n",
    "I20S_endT = ['20150706-033052','20150706-034534','20150706-044004','20150706-045335',\n",
    "              '20150706-055549','20150706-061313','20150706-063758','20150706-065435']\n",
    "I20S_endDT = np.asarray([dt.strptime(fDate,'%Y%m%d-%H%M%S') for fDate in I20S_endT])\n",
    "\n",
    "\n",
    "\n",
    "I20_out = {'I20P_strtDT': I20P_strtDT, 'I20P_endDT': I20P_endDT,\n",
    "          'I20S_strtDT': I20S_strtDT, 'I20S_endDT': I20S_endDT}\n",
    "\n",
    "np.save('/Users/danstechman/GoogleDrive/School/Research/PECAN/Radar/code/samuraiAnalysis/pecan_PDD-Sprl_times/20150706_pddSprl_times.npy',I20_out)"
   ]
  },
  {
   "cell_type": "code",
   "execution_count": 5,
   "metadata": {
    "ExecuteTime": {
     "end_time": "2017-09-27T14:02:39.511008",
     "start_time": "2017-09-27T14:02:39.458011"
    },
    "collapsed": false,
    "run_control": {
     "frozen": false,
     "read_only": false
    }
   },
   "outputs": [],
   "source": [
    "# 20150709\n",
    "# PDDs\n",
    "I21P_strtT = ['20150709-013935','20150709-020045','20150709-022033','20150709-025324','20150709-032157',\n",
    "             '20150709-043231','20150709-050516','20150709-051135','20150709-054454','20150709-061411',\n",
    "             '20150709-064122']\n",
    "I21P_strtDT = np.asarray([dt.strptime(fDate,'%Y%m%d-%H%M%S') for fDate in I21P_strtT])\n",
    "I21P_endT = ['20150709-015921','20150709-021850','20150709-022727','20150709-025736','20150709-033200',\n",
    "             '20150709-043642','20150709-050934','20150709-051436','20150709-054805','20150709-061837',\n",
    "             '20150709-065212']\n",
    "I21P_endDT = np.asarray([dt.strptime(fDate,'%Y%m%d-%H%M%S') for fDate in I21P_endT])\n",
    "\n",
    "# Spirals\n",
    "I21S_strtT = ['20150709-022737','20150709-023944','20150709-025723','20150709-030931','20150709-033249',\n",
    "             '20150709-034745','20150709-040157','20150709-041619','20150709-043625','20150709-045122',\n",
    "             '20150709-051725','20150709-053240','20150709-054811','20150709-060354','20150709-061849',\n",
    "             '20150709-063226']\n",
    "I21S_strtDT = np.asarray([dt.strptime(fDate,'%Y%m%d-%H%M%S') for fDate in I21S_strtT])\n",
    "I21S_endT = ['20150709-023942','20150709-025337','20150709-030929','20150709-032240','20150709-034532',\n",
    "             '20150709-040156','20150709-041617','20150709-042910','20150709-045121','20150709-050346',\n",
    "             '20150709-053239','20150709-054447','20150709-060353','20150709-061243','20150709-063224',\n",
    "             '20150709-064114']\n",
    "I21S_endDT = np.asarray([dt.strptime(fDate,'%Y%m%d-%H%M%S') for fDate in I21S_endT])\n",
    "\n",
    "\n",
    "\n",
    "I21_out = {'I21P_strtDT': I21P_strtDT, 'I21P_endDT': I21P_endDT,\n",
    "          'I21S_strtDT': I21S_strtDT, 'I21S_endDT': I21S_endDT}\n",
    "\n",
    "np.save('/Users/danstechman/GoogleDrive/School/Research/PECAN/Radar/code/samuraiAnalysis/pecan_PDD-Sprl_times/20150709_pddSprl_times.npy',I21_out)"
   ]
  }
 ],
 "metadata": {
  "anaconda-cloud": {},
  "kernelspec": {
   "display_name": "Python [conda root]",
   "language": "python",
   "name": "conda-root-py"
  },
  "language_info": {
   "codemirror_mode": {
    "name": "ipython",
    "version": 3
   },
   "file_extension": ".py",
   "mimetype": "text/x-python",
   "name": "python",
   "nbconvert_exporter": "python",
   "pygments_lexer": "ipython3",
   "version": "3.5.2"
  }
 },
 "nbformat": 4,
 "nbformat_minor": 1
}
