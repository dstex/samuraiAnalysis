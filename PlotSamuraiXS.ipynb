{
 "cells": [
  {
   "cell_type": "code",
   "execution_count": null,
   "metadata": {
    "ExecuteTime": {
     "end_time": "2017-11-13T14:32:14.330605",
     "start_time": "2017-11-13T14:32:12.238765"
    },
    "code_folding": [
     0
    ],
    "collapsed": false,
    "run_control": {
     "frozen": false,
     "read_only": false
    },
    "scrolled": true
   },
   "outputs": [],
   "source": [
    "#\n",
    "import os\n",
    "from datetime import datetime as dt\n",
    "from matplotlib import pyplot as plt\n",
    "import numpy as np\n",
    "from matplotlib.patches import Rectangle\n",
    "import yaml\n",
    "\n",
    "from FLplot import getFLpathData\n",
    "from samuraiAnalysis import getVarLims,gribTools,plotFLpath,samImport,samPlt,makeKML\n",
    "\n",
    "getFLpathData = getFLpathData.getFLpathData\n",
    "getVarLims = getVarLims.getVarLims\n",
    "gribImport = gribTools.gribImport\n",
    "gribLevs = gribTools.gribLevs\n",
    "plotFLpath = plotFLpath.plotFLpath\n",
    "samImport = samImport.samImport\n",
    "plotContour = samPlt.plotContour\n",
    "plotVec = samPlt.plotVec\n",
    "plotXS = samPlt.plotXS\n",
    "xsCalc = samPlt.xsCrdCalc\n",
    "multXSCrdCalc = samPlt.multXSCrdCalc\n",
    "makeKML = makeKML.makeKML\n",
    "\n",
    "#%matplotlib inline"
   ]
  },
  {
   "cell_type": "markdown",
   "metadata": {
    "run_control": {
     "frozen": false,
     "read_only": false
    }
   },
   "source": [
    "## Specify and load SAMURAI plotting parameters file"
   ]
  },
  {
   "cell_type": "code",
   "execution_count": null,
   "metadata": {
    "ExecuteTime": {
     "end_time": "2017-11-13T14:32:14.369001",
     "start_time": "2017-11-13T14:32:14.332204"
    },
    "collapsed": false,
    "run_control": {
     "frozen": false,
     "read_only": false
    }
   },
   "outputs": [],
   "source": [
    "pltSamPrmsFile = ('/Users/danstechman/GoogleDrive/PECAN-Data/samurai/20150706/0317_SR1-XP-D8-FSD/'\n",
    "                                                         'pltSamPrms_20150706_0317_SR1-XP-D8-FSD.yml')\n",
    "with open(pltSamPrmsFile, 'r') as pltSamPrms:\n",
    "    prmsIn = yaml.load(pltSamPrms)\n",
    "    \n",
    "for key,val in prmsIn.items():\n",
    "        exec(key + '=val')"
   ]
  },
  {
   "cell_type": "markdown",
   "metadata": {
    "run_control": {
     "frozen": false,
     "read_only": false
    }
   },
   "source": [
    "### Main plotting functions\n",
    "#### `planContour`\n",
    "Takes a given variable and variable label and using other parameters defined in this notebook, creates plan view contour plots."
   ]
  },
  {
   "cell_type": "code",
   "execution_count": null,
   "metadata": {
    "ExecuteTime": {
     "end_time": "2017-11-13T14:32:14.988205",
     "start_time": "2017-11-13T14:32:14.372120"
    },
    "code_folding": [
     0
    ],
    "collapsed": false,
    "run_control": {
     "frozen": false,
     "read_only": false
    }
   },
   "outputs": [],
   "source": [
    "def planContour(pltVar,pltVarLbl):\n",
    "    \n",
    "    fig,ax,grd,proj = plotContour(pltVar,lev,lon,lat,'map',pltVarLbl,\n",
    "                                  figsize=(10,8),dT=dT,runId=runId,\n",
    "                                  zoom=zoom,mapBnds=mapBnds,NB=noBorder,strmRel=strmRel)\n",
    "    \n",
    "    if pltFT:\n",
    "        plotFLpath(proj,flLon,flLat,dubLine=True)\n",
    "\n",
    "    if pltVec:\n",
    "        plotVec(lon[1::5],lat[1::5],u[lev*2,1::5,1::5],\n",
    "               v[lev*2,1::5,1::5],'map',proj=proj)\n",
    "        \n",
    "    if pltRAP:\n",
    "            plotVec(gribData['lon'],gribData['lat'],gribData['u'][rapLevIx[ix],:,:],\n",
    "                    gribData['v'][rapLevIx[ix],:,:],crds='map',proj=proj,color='white',\n",
    "                    linewidth=1.5,edgecolor='white',quivKeyX=0.08)\n",
    "            plotVec(gribData['lon'],gribData['lat'],gribData['u'][rapLevIx[ix],:,:],\n",
    "                    gribData['v'][rapLevIx[ix],:,:],crds='map',proj=proj,color='blue',\n",
    "                    edgecolor=None,quivKeyX=0.08)\n",
    "\n",
    "    if pltGRlocs:\n",
    "        ax.scatter(lonGR,latGR,marker='d',color='w',s=200,zorder=7,transform=proj,clip_on=True)\n",
    "        ax.scatter(lonGR,latGR,marker='d',color='k',s=100,zorder=8,transform=proj,clip_on=True)\n",
    "\n",
    "        for labelGR, c, d in zip(grTxt, lonGR, latGR):\n",
    "            ax.annotate(labelGR, xy = (c, d), xytext = (-8, 5),zorder=10,\n",
    "                         textcoords = 'offset points',fontsize=13,color='w',\n",
    "                         bbox=dict(boxstyle=\"round\", fc=\"b\",alpha=0.6,pad=0.01),\n",
    "                         transform=proj,clip_on=True)\n",
    "            \n",
    "    if plotXSloc:\n",
    "        if len(xsStrt) > 1:\n",
    "            lbls = []\n",
    "            for iz in range(0,len(xsStrt)):\n",
    "                xsLat,xsLon,dRnd,hdng = xsCalc(xsStrt[iz][0],xsStrt[iz][1],xsEnd[iz][0],xsEnd[iz][1])\n",
    "                ax.plot(xsLon,xsLat,transform=proj,linestyle='-',linewidth=2,color='k')\n",
    "                if iz%2 == 0:\n",
    "                    xyP = (xsStrt[iz][1],xsStrt[iz][0]) # Label the start of the cross section\n",
    "                    xyT = (-25,-25)\n",
    "                else:\n",
    "                    xyP = (xsEnd[iz][1],xsEnd[iz][0]) # Label the end of the cross section\n",
    "                    xyT = (-25,25)\n",
    "                ax.annotate(str(iz+1),xy=xyP,xytext=xyT,zorder=10,transform=proj,\n",
    "                            textcoords='offset points',fontsize=13,color='k',\n",
    "                            bbox=dict(boxstyle=\"round\", fc=\"w\",alpha=0.7,pad=0.04),\n",
    "                            arrowprops=dict(fc='w',ec='k',alpha=0.7,shrink=0.05,width=2,headwidth=8,headlength=8))\n",
    "                if iz == len(xsStrt)-1:\n",
    "                    lbls.append('{} - ({:.2f},{:.2f})-({:.2f},{:.2f})'.format(iz+1,xsStrt[iz][0],xsStrt[iz][1],\n",
    "                                                                              xsEnd[iz][0],xsEnd[iz][1]))\n",
    "                else:\n",
    "                    lbls.append('{} - ({:.2f},{:.2f})-({:.2f},{:.2f})\\n'.format(iz+1,xsStrt[iz][0],xsStrt[iz][1],\n",
    "                                                                                xsEnd[iz][0],xsEnd[iz][1]))\n",
    "\n",
    "            lblStr = ''.join(lbls)\n",
    "            ax.text(0.99,0.99,lblStr,ha='right',va='top',transform=ax.transAxes,\n",
    "                     bbox=dict(boxstyle='square',fc='w',ec='k',pad=0.15,alpha=0.75))\n",
    "            xsStrng = 'multXS'\n",
    "        else:\n",
    "            xsLat,xsLon,dRnd,hdng = xsCalc(xsStrt[0][0],xsStrt[0][1],xsEnd[0][0],xsEnd[0][1])\n",
    "            ax.plot(xsLon,xsLat,transform=proj,linestyle='-',linewidth=2,color='k')\n",
    "            xsStrng = '{:.0f}{:.0f}-{:.0f}{:.0f}'.format(xsStrt[0][0]*10,xsStrt[0][1]*-10,\n",
    "                                                       xsEnd[0][0]*10,xsEnd[0][1]*-10)\n",
    "        \n",
    "        if noBorder:\n",
    "            if strmRel:\n",
    "                saveStr = '{}NB_{}{}_{}_{}-SR_{:.1f}km_{}.{}'.format(savePath,dtSave,runIdSv,'map',pltVarLbl,lev,xsStrng,fType)\n",
    "                fig.savefig(saveStr,bbox_inches='tight',pad_inches=0)\n",
    "            if strmRel:\n",
    "                saveStr = '{}NB_{}{}_{}_{}_{:.1f}km_{}.{}'.format(savePath,dtSave,runIdSv,'map',pltVarLbl,lev,xsStrng,fType)\n",
    "                fig.savefig(saveStr,bbox_inches='tight',pad_inches=0)\n",
    "        else:\n",
    "            if strmRel:\n",
    "                saveStr = '{}{}{}_{}_{}-SR_{:.1f}km_{}.{}'.format(savePath,dtSave,runIdSv,'map',pltVarLbl,lev,\n",
    "                                                                                       xsStrng,fType)\n",
    "            else:\n",
    "                saveStr = '{}{}{}_{}_{}_{:.1f}km_{}.{}'.format(savePath,dtSave,runIdSv,'map',pltVarLbl,lev,\n",
    "                                                                                       xsStrng,fType)\n",
    "            fig.savefig(saveStr,bbox_inches='tight')\n",
    "        \n",
    "    else:\n",
    "        fig.tight_layout()\n",
    "        if noBorder:\n",
    "            saveStr = '{}NB_{}{}_{}_{}_{:.1f}km.{}'.format(savePath,dtSave,runIdSv,'map',pltVarLbl,lev,fType)\n",
    "            fig.savefig(saveStr,bbox_inches='tight',pad_inches=0)\n",
    "    \n",
    "        else:\n",
    "            saveStr = '{}{}{}_{}_{}_{:.1f}km.{}'.format(savePath,dtSave,runIdSv,'map',pltVarLbl,lev,fType)\n",
    "            fig.savefig(saveStr,bbox_inches='tight')\n",
    "    \n",
    "    \n",
    "    if saveKML:\n",
    "        kmlSaveStr = '{}NB_{}{}_{}_{}_{:.1f}km.kmz'.format(savePath,dtSave,runIdSv,'map',pltVarLbl,lev)\n",
    "        makeKML(lon.min(),lat.min(),lon.max(),lat.max(),figs=[saveStr],kmzfile=kmlSaveStr)\n",
    "        os.remove(saveStr)\n",
    "\n",
    "\n",
    "    plt.close()"
   ]
  },
  {
   "cell_type": "markdown",
   "metadata": {
    "run_control": {
     "frozen": false,
     "read_only": false
    }
   },
   "source": [
    "#### `xsContour`\n",
    "Takes a given variable, variable label, cross-section start/end points, and using other parameters defined in this notebook, creates cross-section contour plots."
   ]
  },
  {
   "cell_type": "code",
   "execution_count": null,
   "metadata": {
    "ExecuteTime": {
     "end_time": "2017-11-13T14:32:15.044061",
     "start_time": "2017-11-13T14:32:14.990035"
    },
    "code_folding": [
     0
    ],
    "collapsed": false,
    "run_control": {
     "frozen": false,
     "read_only": false
    }
   },
   "outputs": [],
   "source": [
    "def xsContour(pltVar,pltVarLbl,xsStrtTmp,xsEndTmp,xsIX):\n",
    "    \n",
    "    lonDiff = np.abs(xsEndTmp[1]-xsStrtTmp[1])\n",
    "    latDiff = np.abs(xsEndTmp[0]-xsStrtTmp[0])\n",
    "    \n",
    "    if latDiff >= lonDiff:\n",
    "        xCrd = 'lat'\n",
    "    else:\n",
    "        xCrd = 'lon'\n",
    "    \n",
    "    fig,ax = plotXS(pltVar,lon,lat,alt,u,v,w,xsStrtTmp,xsEndTmp,\n",
    "                  pltFlag=pltVarLbl,dT=dT,leafSz=leafSz,runId=runId,\n",
    "                  vecPlt=pltVecXS,figsize=(15,5),xCrd=xCrd,strmRel=strmRel)\n",
    "    \n",
    "    if strmRel:\n",
    "        saveStr = '{}{}{}_{}-SR_{}-{}_{:.0f}{:.0f}-{:.0f}{:.0f}.{}'.format(savePath,dtSave,runIdSv,pltVarLbl,'XS',xsIX+1,\n",
    "                                                                      xsStrtTmp[0]*10,xsStrtTmp[1]*-10,\n",
    "                                                                      xsEndTmp[0]*10,xsEndTmp[1]*-10,\n",
    "                                                                       fType)\n",
    "    else:\n",
    "        saveStr = '{}{}{}_{}_{}-{}_{:.0f}{:.0f}-{:.0f}{:.0f}.{}'.format(savePath,dtSave,runIdSv,pltVarLbl,'XS',xsIX+1,\n",
    "                                                                      xsStrtTmp[0]*10,xsStrtTmp[1]*-10,\n",
    "                                                                      xsEndTmp[0]*10,xsEndTmp[1]*-10,\n",
    "                                                                       fType)\n",
    "    fig.savefig(saveStr,bbox_inches='tight')\n",
    "    plt.close()"
   ]
  },
  {
   "cell_type": "markdown",
   "metadata": {
    "run_control": {
     "frozen": false,
     "read_only": false
    }
   },
   "source": [
    "### Import data and initialize save path"
   ]
  },
  {
   "cell_type": "code",
   "execution_count": null,
   "metadata": {
    "ExecuteTime": {
     "end_time": "2017-11-13T14:32:15.319800",
     "start_time": "2017-11-13T14:32:15.046080"
    },
    "code_folding": [
     0
    ],
    "collapsed": false,
    "run_control": {
     "frozen": false,
     "read_only": false
    }
   },
   "outputs": [],
   "source": [
    "#\n",
    "samFile = samPrefix + flight + '/' + outPrefix + '/output/samurai_XYZ_analysis.nc'\n",
    "flFile = flPrefix + flight + '_FltLvl_Processed.nc'\n",
    "\n",
    "if dtDir:\n",
    "    dtNow = dt.strftime(dt.now(),'%Y%m%d_%H%M')\n",
    "    savePath = samPrefix + flight + '/' + outPrefix + '/figs/' + dtNow + dirPost + '/'\n",
    "else:\n",
    "    savePath = samPrefix + flight + '/' + outPrefix + '/figs/' + dirPost + '/'\n",
    "\n",
    "# Import SAMURAI data\n",
    "samData = samImport(samFile)"
   ]
  },
  {
   "cell_type": "markdown",
   "metadata": {
    "run_control": {
     "frozen": false,
     "read_only": false
    }
   },
   "source": [
    "### Define set of parallel cross-sections if `avgXS` is True"
   ]
  },
  {
   "cell_type": "code",
   "execution_count": null,
   "metadata": {
    "ExecuteTime": {
     "end_time": "2017-11-13T14:32:15.360347",
     "start_time": "2017-11-13T14:32:15.322135"
    },
    "code_folding": [
     0
    ],
    "collapsed": false,
    "run_control": {
     "frozen": false,
     "read_only": false
    }
   },
   "outputs": [],
   "source": [
    "#\n",
    "if plotXScts and avgXS:\n",
    "    # Generate a number of parallel cross-sections spaced at a given interval\n",
    "    # starting at some initial set of XS start/end points\n",
    "    dists = np.arange(1,numXSavg)\n",
    "\n",
    "    xsStrt = []\n",
    "    xsEnd = []\n",
    "\n",
    "    for d in dists:\n",
    "        newLatStrt,newLonStrt = multXSCrdCalc(XSavgInitLatStrt,XSavgInitLonStrt,d,XSavgHdng)\n",
    "        xsStrt.append((newLatStrt,newLonStrt))\n",
    "        \n",
    "        newLatEnd,newLonEnd = multXSCrdCalc(XSavgInitLatEnd,XSavgInitLonEnd,d,XSavgHdng)\n",
    "        xsEnd.append((newLatEnd,newLonEnd))"
   ]
  },
  {
   "cell_type": "markdown",
   "metadata": {
    "run_control": {
     "frozen": false,
     "read_only": false
    }
   },
   "source": [
    "### Import Data / Initialize File Saving Parameters"
   ]
  },
  {
   "cell_type": "code",
   "execution_count": null,
   "metadata": {
    "ExecuteTime": {
     "end_time": "2017-11-13T14:32:15.625155",
     "start_time": "2017-11-13T14:32:15.364241"
    },
    "code_folding": [
     0
    ],
    "collapsed": false,
    "run_control": {
     "frozen": false,
     "read_only": false
    }
   },
   "outputs": [],
   "source": [
    "#\n",
    "dT = samData['time']\n",
    "dbz = samData['dbz']\n",
    "u = samData['u']\n",
    "v = samData['v']\n",
    "w = samData['w']\n",
    "vort = samData['vort']\n",
    "lat = samData['lat']\n",
    "lon = samData['lon']\n",
    "alt = samData['alt']\n",
    "\n",
    "wndSpd = np.sqrt(np.square(u)+np.square(v))\n",
    "\n",
    "if strmRel:\n",
    "    u = u-strmU\n",
    "    v = v-strmV\n",
    "\n",
    "\n",
    "# Determine if we're plotting every or every other level\n",
    "# (if neither -1 nor -2, then pltLevs is given a list of levels in the params file)\n",
    "if pltLevs == [-1]:\n",
    "    pltLevs = samData['alt']\n",
    "elif pltLevs == [-2]:\n",
    "    pltLevs = samData['alt'][2::2]\n",
    "    \n",
    "    \n",
    "# Set map boundary settings\n",
    "if unifyBnds:\n",
    "    zoom = True\n",
    "    mapBnds = unifiedMapBnds\n",
    "else:\n",
    "    zoom = False\n",
    "    mapBnds = None\n",
    "    \n",
    "    \n",
    "# Check to make sure we're creating borderless figures if saving KML files\n",
    "if saveKML and not noBorder:\n",
    "    print('\\'No border\\' must be True if saving KML. Setting noBorder equal to True...')\n",
    "    noBorder = True\n",
    "\n",
    "\n",
    "# Make the runID and datetime filename-friendly\n",
    "if not pltRAP:\n",
    "#     runId = outPrefix\n",
    "    runId = outPrefix[5:]\n",
    "else:\n",
    "    runId = outPrefix + '_rapOvr'\n",
    "    \n",
    "    # Import model (RAP) data if desired and match levels\n",
    "    gribData = gribImport(gribFile)\n",
    "    rapLevIx = gribLevs(pltLevs,gribData['geoHght'])\n",
    "\n",
    "    \n",
    "runIdSv = '_' + runId.replace('_','-')\n",
    "\n",
    "\n",
    "if dT is not None:\n",
    "    dtSave = dt.strftime(dT,'%Y%m%d_%H%M')\n",
    "else:\n",
    "    dtSave = 'unknownDT'\n",
    "\n",
    "\n",
    "      \n",
    "# Import FL data if plotting the flight track\n",
    "if pltFT and plotPlanViews:\n",
    "    flS = dt.strptime(flSs,'%Y%m%d-%H%M%S')\n",
    "    flE = dt.strptime(flEs,'%Y%m%d-%H%M%S')\n",
    "    flData = getFLpathData(flFile,pathStrt=flS,pathEnd=flE,crdsOnly=True)\n",
    "    flLat = flData['lat']\n",
    "    flLon = flData['lon']\n",
    "    \n",
    "\n",
    "\n",
    "# Make the output figure directory if it doesn't exist\n",
    "if not os.path.exists(savePath):\n",
    "    os.makedirs(savePath)"
   ]
  },
  {
   "cell_type": "markdown",
   "metadata": {
    "run_control": {
     "frozen": false,
     "read_only": false
    }
   },
   "source": [
    "### Generate all desired plan view plots"
   ]
  },
  {
   "cell_type": "code",
   "execution_count": null,
   "metadata": {
    "ExecuteTime": {
     "end_time": "2017-11-13T14:32:30.209291",
     "start_time": "2017-11-13T14:32:15.627398"
    },
    "code_folding": [
     0
    ],
    "collapsed": false,
    "run_control": {
     "frozen": false,
     "read_only": false
    }
   },
   "outputs": [],
   "source": [
    "if plotPlanViews:\n",
    "\n",
    "    for ix in range(0,len(pltLevs)):\n",
    "        lev = pltLevs[ix]\n",
    "\n",
    "        print('Now plotting plan views at {:.2f} km ({} of {})...'.format(lev,ix+1,len(pltLevs)))\n",
    "\n",
    "        if pltDBZ:\n",
    "            planContour(dbz,'dbz')\n",
    "        if pltU:\n",
    "            planContour(u,'u')\n",
    "        if pltV:\n",
    "            planContour(v,'v')\n",
    "        if pltW:\n",
    "            planContour(w,'w')\n",
    "        if pltVort:\n",
    "            planContour(vort,'vort')\n",
    "        if pltWndSpd:\n",
    "            planContour(wndSpd,'wind')"
   ]
  },
  {
   "cell_type": "markdown",
   "metadata": {
    "run_control": {
     "frozen": false,
     "read_only": false
    }
   },
   "source": [
    "### Generate all desired cross-section plots"
   ]
  },
  {
   "cell_type": "code",
   "execution_count": null,
   "metadata": {
    "ExecuteTime": {
     "end_time": "2017-11-13T14:32:32.173200",
     "start_time": "2017-11-13T14:32:30.210819"
    },
    "code_folding": [
     0
    ],
    "collapsed": false,
    "run_control": {
     "frozen": false,
     "read_only": false
    }
   },
   "outputs": [],
   "source": [
    "if plotXScts:\n",
    "\n",
    "    for ix in range(0,len(xsStrt)):\n",
    "\n",
    "        xsStrtTmp = xsStrt[ix]\n",
    "        xsEndTmp = xsEnd[ix]\n",
    "        print('Now plotting cross-section between ({:.2f},{:.2f}) and ({:.2f},{:.2f}) ({} of {})...'.format(xsStrtTmp[0],xsStrtTmp[1],\n",
    "                                                                                                            xsEndTmp[0],xsEndTmp[1],\n",
    "                                                                                                            ix+1,len(xsStrt)))\n",
    "\n",
    "        if pltDBZx:\n",
    "            xsContour(dbz,'dbz',xsStrtTmp,xsEndTmp,ix)\n",
    "        if pltUx:\n",
    "            xsContour(u,'u',xsStrtTmp,xsEndTmp,ix)\n",
    "        if pltVx:\n",
    "            xsContour(v,'v',xsStrtTmp,xsEndTmp,ix)\n",
    "        if pltWx:\n",
    "            xsContour(w,'w',xsStrtTmp,xsEndTmp,ix)\n",
    "        if pltVortX:\n",
    "            xsContour(vort,'vort',xsStrtTmp,xsEndTmp,ix)\n",
    "        if pltWndSpdX:\n",
    "            xsContour(wndSpd,'wind',xsStrtTmp,xsEndTmp,ix)"
   ]
  },
  {
   "cell_type": "code",
   "execution_count": null,
   "metadata": {
    "ExecuteTime": {
     "end_time": "2017-11-13T14:32:32.189022",
     "start_time": "2017-11-13T14:32:32.174824"
    },
    "code_folding": [],
    "collapsed": false,
    "run_control": {
     "frozen": false,
     "read_only": false
    }
   },
   "outputs": [],
   "source": [
    "# For the README\n",
    "\n",
    "### Cross-section location(s)\n",
    "# If specifying multiple cross-sections, format the `xsStrt`/`xsEnd` vars as lists of tuples in config file. For example:\n",
    "# ```\n",
    "# xsStrt:\n",
    "# - !!python/tuple\n",
    "#   - 43.321\n",
    "#   - -97.841\n",
    "# - !!python/tuple\n",
    "#   - 43.2\n",
    "#   - -98.1\n",
    "# xsEnd:\n",
    "# - !!python/tuple\n",
    "#   - 44.214\n",
    "#   - -98.298\n",
    "# - !!python/tuple\n",
    "#   - 44.214\n",
    "#   - -98.298\n",
    "# ```\n",
    "# Here, it is important to double check that the winds within the plane of the cross-section(s) match \n",
    "# what is expected based on those seen in the PPI(s). If winds appear to be opposite of those expected, \n",
    "# swap the initial and final XS points. _(Still trying to find a way to implement automatic checks for this.)_"
   ]
  }
 ],
 "metadata": {
  "anaconda-cloud": {},
  "kernelspec": {
   "display_name": "Python [conda root]",
   "language": "python",
   "name": "conda-root-py"
  },
  "language_info": {
   "codemirror_mode": {
    "name": "ipython",
    "version": 3
   },
   "file_extension": ".py",
   "mimetype": "text/x-python",
   "name": "python",
   "nbconvert_exporter": "python",
   "pygments_lexer": "ipython3",
   "version": "3.5.2"
  }
 },
 "nbformat": 4,
 "nbformat_minor": 1
}
