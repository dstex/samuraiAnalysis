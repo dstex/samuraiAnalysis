{
 "cells": [
  {
   "cell_type": "code",
   "execution_count": null,
   "metadata": {
    "collapsed": true
   },
   "outputs": [],
   "source": [
    "import os\n",
    "from datetime import datetime as dt\n",
    "from matplotlib import pyplot as plt\n",
    "import numpy as np\n",
    "from matplotlib.patches import Rectangle\n",
    "\n",
    "from FLplot import getFLpathData\n",
    "from samuraiAnalysis import getVarLims,gribTools,plotFLpath,samImport,samPlt,makeKML\n",
    "\n",
    "getFLpathData = getFLpathData.getFLpathData\n",
    "getVarLims = getVarLims.getVarLims\n",
    "plotFLpath = plotFLpath.plotFLpath\n",
    "samImport = samImport.samImport\n",
    "plotContour = samPlt.plotContour\n",
    "plotVec = samPlt.plotVec\n",
    "plotXS = samPlt.plotXS\n",
    "xsCalc = samPlt.xsCrdCalc\n",
    "makeKML = makeKML.makeKML\n",
    "\n",
    "%matplotlib inline"
   ]
  },
  {
   "cell_type": "markdown",
   "metadata": {},
   "source": [
    "### `planContour`\n",
    "Takes a given variable and variable label and using other parameters defined in this notebook, creates plan view contour plots."
   ]
  },
  {
   "cell_type": "code",
   "execution_count": null,
   "metadata": {
    "collapsed": true
   },
   "outputs": [],
   "source": [
    "def planContour(pltVar,pltVarLbl):\n",
    "    \n",
    "    fig,ax,grd,proj = plotContour(pltVar,lev,lon,lat,'map',pltVarLbl,\n",
    "                                  figsize=(10,10),dT=dT,runId=runId,\n",
    "                                  zoom=zoom,mapBnds=mapBnds,NB=noBorder)\n",
    "    \n",
    "    if pltFT:\n",
    "        plotFLpath(proj,flLon,flLat,dubLine=True)\n",
    "\n",
    "    if pltVec:\n",
    "        plotVec(lon[1::5],lat[1::5],u[lev*2,1::5,1::5],\n",
    "               v[lev*2,1::5,1::5],'map',proj=proj)\n",
    "\n",
    "    if pltGRlocs and 'D7' in runId:\n",
    "        plt.scatter(lonGR,latGR,marker='d',color='w',s=200,zorder=7,transform=proj)\n",
    "        plt.scatter(lonGR,latGR,marker='d',color='k',s=100,zorder=8,transform=proj)\n",
    "\n",
    "        for labelGR, c, d in zip(grTxt, lonGR, latGR):\n",
    "            plt.annotate(labelGR, xy = (c, d), xytext = (-8, 5),zorder=10,\n",
    "                         textcoords = 'offset points',fontsize=13,color='w',\n",
    "                         bbox=dict(boxstyle=\"round\", fc=\"b\",alpha=0.6,pad=0.01),\n",
    "                         transform=proj)\n",
    "            \n",
    "    if plotXSloc:\n",
    "        if len(xsStrt) > 1:\n",
    "            lbls = []\n",
    "            for iz in range(0,len(xsStrt)):\n",
    "                xsLat,xsLon,dRnd,hdng = xsCalc(xsStrt[iz][0],xsStrt[iz][1],xsEnd[iz][0],xsEnd[iz][1])\n",
    "                ax.plot(xsLon,xsLat,transform=proj,linestyle='-',linewidth=2,color='k')\n",
    "                if iz%2 == 0:\n",
    "                    xyP = (xsStrt[iz][1],xsStrt[iz][0]) # Label the start of the cross section\n",
    "                    xyT = (-25,-25)\n",
    "                else:\n",
    "                    xyP = (xsEnd[iz][1],xsEnd[iz][0]) # Label the end of the cross section\n",
    "                    xyT = (-25,25)\n",
    "                plt.annotate(str(iz+1),xy=xyP,xytext=xyT,zorder=10,transform=proj,\n",
    "                            textcoords='offset points',fontsize=13,color='k',\n",
    "                            bbox=dict(boxstyle=\"round\", fc=\"w\",alpha=0.7,pad=0.04),\n",
    "                            arrowprops=dict(fc='w',ec='k',alpha=0.7,shrink=0.05,width=2,headwidth=8,headlength=8))\n",
    "                if iz == len(xsStrt)-1:\n",
    "                    lbls.append('{} - ({:.2f},{:.2f})-({:.2f},{:.2f})'.format(iz+1,xsStrt[iz][0],xsStrt[iz][1],\n",
    "                                                                              xsEnd[iz][0],xsEnd[iz][1]))\n",
    "                else:\n",
    "                    lbls.append('{} - ({:.2f},{:.2f})-({:.2f},{:.2f})\\n'.format(iz+1,xsStrt[iz][0],xsStrt[iz][1],\n",
    "                                                                                xsEnd[iz][0],xsEnd[iz][1]))\n",
    "\n",
    "            lblStr = ''.join(lbls)\n",
    "            plt.text(0.99,0.99,lblStr,ha='right',va='top',transform=ax.transAxes,\n",
    "                     bbox=dict(boxstyle='square',fc='w',ec='k',pad=0.15,alpha=0.75))\n",
    "            xsStrng = 'multXS'\n",
    "        else:\n",
    "            xsLat,xsLon,dRnd,hdng = xsCalc(xsStrt[0][0],xsStrt[0][1],xsEnd[0][0],xsEnd[0][1])\n",
    "            ax.plot(xsLon,xsLat,transform=proj,linestyle='-',linewidth=2,color='k')\n",
    "            xsStrng = '{:.0f}{:.0f}-{:.0f}{:.0f}'.format(xsStrt[iz][0]*10,xsStrt[iz][1]*-10,\n",
    "                                                       xsEnd[iz][0]*10,xsEnd[iz][1]*-10)\n",
    "            \n",
    "        if noBorder:\n",
    "            saveStr = '{}NB_{}{}_{}_{}_{:.1f}km_{}.png'.format(savePath,dtSave,runIdSv,'map',pltVarLbl,lev,xsStrng)\n",
    "            fig.savefig(saveStr,bbox_inches='tight',pad_inches=0)\n",
    "        else:\n",
    "            saveStr = '{}{}{}_{}_{}_{:.1f}km_{}.png'.format(savePath,dtSave,runIdSv,'map',pltVarLbl,lev,\n",
    "                                                                                   xsStrng)\n",
    "            fig.savefig(saveStr,bbox_inches='tight')\n",
    "        \n",
    "    else: \n",
    "        if noBorder:\n",
    "            saveStr = '{}NB_{}{}_{}_{}_{:.1f}km.png'.format(savePath,dtSave,runIdSv,'map',pltVarLbl,lev)\n",
    "            fig.savefig(saveStr,bbox_inches='tight',pad_inches=0)\n",
    "    \n",
    "        else:\n",
    "            saveStr = '{}{}{}_{}_{}_{:.1f}km.png'.format(savePath,dtSave,runIdSv,'map',pltVarLbl,lev)\n",
    "            fig.savefig(saveStr,bbox_inches='tight')\n",
    "    \n",
    "    \n",
    "    if saveKML:\n",
    "        kmlSaveStr = '{}NB_{}{}_{}_{}_{:.1f}km.kmz'.format(savePath,dtSave,runIdSv,'map',pltVarLbl,lev)\n",
    "        makeKML(lon.min(),lat.min(),lon.max(),lat.max(),figs=[saveStr],kmzfile=kmlSaveStr)\n",
    "\n",
    "\n",
    "    plt.close()"
   ]
  },
  {
   "cell_type": "markdown",
   "metadata": {},
   "source": [
    "### `xsContour`\n",
    "Takes a given variable, variable label, cross-section start/end points, and using other parameters defined in this notebook, creates cross-section contour plots."
   ]
  },
  {
   "cell_type": "code",
   "execution_count": null,
   "metadata": {
    "ExecuteTime": {
     "end_time": "2017-07-19T10:57:49.194360",
     "start_time": "2017-07-19T10:57:47.154134"
    },
    "code_folding": [
     23,
     106
    ],
    "collapsed": false,
    "run_control": {
     "frozen": false,
     "read_only": false
    }
   },
   "outputs": [],
   "source": [
    "def xsContour(pltVar,pltVarLbl,xsStrtTmp,xsEndTmp):\n",
    "    \n",
    "    lonDiff = np.abs(xsEndTmp[1]-xsStrtTmp[1])\n",
    "    latDiff = np.abs(xsEndTmp[0]-xsStrtTmp[0])\n",
    "    \n",
    "    if latDiff >= lonDiff:\n",
    "        xCrd = 'lat'\n",
    "    else:\n",
    "        xCrd = 'lon'\n",
    "    \n",
    "    fig,ax = plotXS(pltVar,lon,lat,alt,u,v,w,xsStrtTmp,xsEndTmp,\n",
    "                  pltFlag=pltVarLbl,dT=dT,leafSz=leafSz,runId=runId,\n",
    "                  vecPlt=vecPlt,figsize=(15,5),xCrd=xCrd)\n",
    "    \n",
    "    saveStr = '{}{}{}_{}_{}_{:.0f}{:.0f}-{:.0f}{:.0f}.png'.format(savePath,dtSave,runIdSv,'XS',pltVarLbl,\n",
    "                                                                  xsStrtTmp[0]*10,xsStrtTmp[1]*-10,\n",
    "                                                                  xsEndTmp[0]*10,xsEndTmp[1]*-10)\n",
    "    fig.savefig(saveStr,bbox_inches='tight')\n",
    "    plt.close()"
   ]
  },
  {
   "cell_type": "markdown",
   "metadata": {},
   "source": [
    "### Case Selection / File Locations\n",
    "`outPrefix` is the name of the directory where the SAMURAI output is located  \n",
    "`samFile` is the full path pointing to the SAMURAI analysis file  \n",
    "`flFile` is the full path pointing to the flight-level data (if used)"
   ]
  },
  {
   "cell_type": "code",
   "execution_count": null,
   "metadata": {
    "collapsed": true
   },
   "outputs": [],
   "source": [
    "# output is located\n",
    "# outPrefix = 'fsdabr_0420'\n",
    "# outPrefix = 'fsdabr_0432'\n",
    "# outPrefix = 'P6_D7_fsdabr'\n",
    "# outPrefix = 'P6_fsd'\n",
    "# outPrefix = 'P6_fsdabr'\n",
    "# outPrefix = 'P6_fsdMultV'\n",
    "# outPrefix = 'P6corr_fsd'\n",
    "# outPrefix = 'S3_fsd'\n",
    "# outPrefix = 'S3_fsdabr'\n",
    "# outPrefix = 'S3_fsdMultV'\n",
    "# outPrefix = 'S3corr_fsd'\n",
    "outPrefix = 'S3P6_fsdabr'\n",
    "# outPrefix = 'S3prl1'\n",
    "# outPrefix = 'S3prl1_fsdabr'\n",
    "\n",
    "samPrefix = '/Users/danstechman/GoogleDrive/PECAN-Data/samurai/20150706/'\n",
    "samFile = samPrefix + outPrefix + '/output/samurai_XYZ_analysis.nc'\n",
    "flFile = '/Users/danstechman/GoogleDrive/PECAN-Data/FlightLevelData/Processed/20150706_FltLvl_Processed.nc'\n",
    "savePath = samPrefix + outPrefix + '/figs/'\n",
    "\n",
    "# Import SAMURAI data\n",
    "samData = samImport(samFile)"
   ]
  },
  {
   "cell_type": "markdown",
   "metadata": {},
   "source": [
    "### Cross-section location(s)\n",
    "If specifying multiple cross-sections, format the `xsStrt`/`xsEnd` vars as lists of tuples (e.g., `xsStrt = [(43.2,-97.9), (43.3,-97.8), ...]`)"
   ]
  },
  {
   "cell_type": "code",
   "execution_count": null,
   "metadata": {
    "collapsed": true
   },
   "outputs": [],
   "source": [
    "xsStrt = [(43.2,-98.25),(43.2,-98.1)]\n",
    "xsEnd = [(44.4,-98.25),(44.4,-98.1)]"
   ]
  },
  {
   "cell_type": "markdown",
   "metadata": {},
   "source": [
    "### Plan View Plot Controls\n",
    "Specify whether you want plan view plots, and if so, which variables to plot, at what levels, and with which options enabled."
   ]
  },
  {
   "cell_type": "code",
   "execution_count": null,
   "metadata": {
    "collapsed": true
   },
   "outputs": [],
   "source": [
    "plotPlanViews = True\n",
    "\n",
    "plotXSloc     = True\n",
    "pltVec        = True\n",
    "pltGRlocs     = True\n",
    "pltFT         = True\n",
    "\n",
    "unifyBnds     = False\n",
    "\n",
    "noBorder      = False\n",
    "saveKML       = False\n",
    "\n",
    "pltDBZ  = True\n",
    "pltU    = False\n",
    "pltV    = False\n",
    "pltW    = False\n",
    "pltVort = False\n",
    "\n",
    "### Plan view plot settings ###\n",
    "if plotPlanViews:\n",
    "    # pltLevs = samData['alt']\n",
    "    pltLevs = [3]\n",
    "\n",
    "    # These map boundaries will place all of the above runs within a unified map boundary\n",
    "    if unifyBnds:\n",
    "        unifiedMapBnds = [-99.3,-97.1,43.1,45.0]\n",
    "\n",
    "    # Provide locations and label names for ground radars if plotting\n",
    "    if pltGRlocs:\n",
    "        # Ground-based radar names and locations\n",
    "        grTxt = ['D7']#,'FSD','ABR']\n",
    "        latGR = [43.3864]#,43.583,45.451]\n",
    "        lonGR = [-97.7197]#,-96.724,-98.408]\n",
    "\n",
    "    # Get start/end times for flight tracks\n",
    "    # For the data index of pddSprlTimes, use (leg/sprl # - 1).\n",
    "    if pltFT:\n",
    "        pddSprlTimes = np.load('/Users/danstechman/GoogleDrive/School/Research/PECAN/Radar/code/samuraiAnalysis/pecan_PDD-Sprl_times/20150706_pddSprl_times.npy')[()]\n",
    "        # PDD 6\n",
    "        if 'P6' in outPrefix and 'S3P6' not in outPrefix:\n",
    "            flS = pddSprlTimes['I20P_strtDT'][5]\n",
    "            flE = pddSprlTimes['I20P_endDT'][5]\n",
    "\n",
    "        # Spiral 3    \n",
    "        elif 'S3' in outPrefix and not any(val in outPrefix for val in ('S3P6','prl')):# 'S3P6' not in outPrefix and 'prl':\n",
    "            flS = pddSprlTimes['I20S_strtDT'][2]\n",
    "            flE = pddSprlTimes['I20S_endDT'][2]\n",
    "\n",
    "        # Spiral3/PDD6 combo\n",
    "        elif 'S3P6' in outPrefix:\n",
    "            flS = pddSprlTimes['I20P_strtDT'][5]\n",
    "            flE = pddSprlTimes['I20S_endDT'][2]\n",
    "\n",
    "        #Purl 1 from Spiral 3:\n",
    "        elif 'prl1' in outPrefix:\n",
    "            flS = dt.strptime('20150706-042710','%Y%m%d-%H%M%S')\n",
    "            flE = dt.strptime('20150706-043152','%Y%m%d-%H%M%S')\n",
    "\n",
    "        else:\n",
    "            raise ValueError('Unknown FL path start/end datetimes')"
   ]
  },
  {
   "cell_type": "markdown",
   "metadata": {},
   "source": [
    "### Cross-Section Plot Controls\n",
    "Specify whether you want cross-section plots, and if so, which variables to plot, and with which options enabled."
   ]
  },
  {
   "cell_type": "code",
   "execution_count": null,
   "metadata": {
    "collapsed": true
   },
   "outputs": [],
   "source": [
    "plotXScts = True\n",
    "\n",
    "pltDBZx  = True\n",
    "pltUx    = False\n",
    "pltVx    = False\n",
    "pltWx    = False\n",
    "pltVortX = False\n",
    "\n",
    "# How many points to average into the cross-section from both sides?\n",
    "leafSz = 1\n",
    "\n",
    "# Plot vectors?\n",
    "vecPlt = True"
   ]
  },
  {
   "cell_type": "markdown",
   "metadata": {},
   "source": [
    "### <font color='blue'>_End of commonly modified code/variables_</font>\n",
    "### Import Data / Initialize File Saving Parameters"
   ]
  },
  {
   "cell_type": "code",
   "execution_count": null,
   "metadata": {
    "collapsed": true
   },
   "outputs": [],
   "source": [
    "# Import data from SAMURAI file\n",
    "dT = samData['time']\n",
    "dbz = samData['dbz']\n",
    "u = samData['u']\n",
    "v = samData['v']\n",
    "w = samData['w']\n",
    "vort = samData['vort']\n",
    "lat = samData['lat']\n",
    "lon = samData['lon']\n",
    "alt = samData['alt']\n",
    "\n",
    "\n",
    "# Set map boundary settings\n",
    "if unifyBnds:\n",
    "    zoom = True\n",
    "    mapBnds = unifiedMapBnds\n",
    "else:\n",
    "    zoom = False\n",
    "    mapBnds = None\n",
    "    \n",
    "    \n",
    "# Check to make sure we're creating borderless figures if saving KML files\n",
    "if saveKML and not noBorder:\n",
    "    print('\\'No border\\' must be True if saving KML. Setting noBorder equal to True...')\n",
    "    noBorder = True\n",
    "\n",
    "\n",
    "# Make the runID and datetime filename-friendly\n",
    "runId = outPrefix\n",
    "runIdSv = '_' + runId.replace('_','-')\n",
    "if dT is not None:\n",
    "    dtSave = dt.strftime(dT,'%Y%m%d_%H%M')\n",
    "else:\n",
    "    dtSave = 'unknownDT'\n",
    "\n",
    "\n",
    "# Import FL data if plotting the flight track\n",
    "if pltFT:\n",
    "    flData = getFLpathData(flFile,pathStrt=flS,pathEnd=flE,crdsOnly=True)\n",
    "    flLat = flData['lat']\n",
    "    flLon = flData['lon']\n",
    "\n",
    "# Make the output figure directory if it doesn't exist\n",
    "if not os.path.exists(savePath):\n",
    "    os.makedirs(savePath)"
   ]
  },
  {
   "cell_type": "markdown",
   "metadata": {},
   "source": [
    "### Generate all desired plan view plots"
   ]
  },
  {
   "cell_type": "code",
   "execution_count": null,
   "metadata": {
    "ExecuteTime": {
     "end_time": "2017-07-19T10:57:51.794461",
     "start_time": "2017-07-19T10:57:50.299485"
    },
    "code_folding": [],
    "collapsed": false,
    "run_control": {
     "frozen": false,
     "read_only": false
    }
   },
   "outputs": [],
   "source": [
    "if plotPlanViews:\n",
    "\n",
    "    for ix in range(0,len(pltLevs)):\n",
    "        lev = pltLevs[ix]\n",
    "\n",
    "        print('Now plotting plan views at {:.2f} km ({} of {})...'.format(lev,ix+1,len(pltLevs)))\n",
    "\n",
    "        if pltDBZ:\n",
    "            planContour(dbz,'dbz')\n",
    "        if pltU:\n",
    "            planContour(u,'u')\n",
    "        if pltV:\n",
    "            planContour(v,'v')\n",
    "        if pltW:\n",
    "            planContour(w,'w')\n",
    "        if pltVort:\n",
    "            planContour(vort,'vort')"
   ]
  },
  {
   "cell_type": "markdown",
   "metadata": {},
   "source": [
    "### Generate all desired cross-section plots"
   ]
  },
  {
   "cell_type": "code",
   "execution_count": null,
   "metadata": {
    "ExecuteTime": {
     "end_time": "2017-07-19T10:57:53.805840",
     "start_time": "2017-07-19T10:57:51.796585"
    },
    "code_folding": [],
    "collapsed": false,
    "run_control": {
     "frozen": false,
     "read_only": false
    }
   },
   "outputs": [],
   "source": [
    "if plotXScts:\n",
    "\n",
    "    for ix in range(0,len(xsStrt)):\n",
    "\n",
    "        xsStrtTmp = xsStrt[ix]\n",
    "        xsEndTmp = xsEnd[ix]\n",
    "        print('Now plotting cross-section between ({:.2f},{:.2f}) and ({:.2f},{:.2f}) ({} of {})...'.format(xsStrtTmp[0],xsStrtTmp[1],\n",
    "                                                                                                            xsEndTmp[0],xsEndTmp[1],\n",
    "                                                                                                            ix+1,len(xsStrt)))\n",
    "\n",
    "        if pltDBZx:\n",
    "            xsContour(dbz,'dbz',xsStrtTmp,xsEndTmp)\n",
    "        if pltUx:\n",
    "            xsContour(u,'u',xsStrtTmp,xsEndTmp)\n",
    "        if pltVx:\n",
    "            xsContour(v,'v',xsStrtTmp,xsEndTmp)\n",
    "        if pltWx:\n",
    "            xsContour(w,'w',xsStrtTmp,xsEndTmp)\n",
    "        if pltVortX:\n",
    "            xsContour(vort,'vort',xsStrtTmp,xsEndTmp)"
   ]
  }
 ],
 "metadata": {
  "anaconda-cloud": {},
  "kernelspec": {
   "display_name": "Python [conda root]",
   "language": "python",
   "name": "conda-root-py"
  },
  "language_info": {
   "codemirror_mode": {
    "name": "ipython",
    "version": 3
   },
   "file_extension": ".py",
   "mimetype": "text/x-python",
   "name": "python",
   "nbconvert_exporter": "python",
   "pygments_lexer": "ipython3",
   "version": "3.5.2"
  }
 },
 "nbformat": 4,
 "nbformat_minor": 1
}
