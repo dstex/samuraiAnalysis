{
 "cells": [
  {
   "cell_type": "code",
   "execution_count": 6,
   "metadata": {
    "ExecuteTime": {
     "end_time": "2017-11-08T09:38:47.382391",
     "start_time": "2017-11-08T09:38:43.927190"
    },
    "collapsed": false,
    "run_control": {
     "frozen": false,
     "read_only": false
    }
   },
   "outputs": [
    {
     "name": "stderr",
     "output_type": "stream",
     "text": [
      "/Users/danstechman/anaconda/lib/python3.5/site-packages/xarray/core/formatting.py:16: FutureWarning: The pandas.tslib module is deprecated and will be removed in a future version.\n",
      "  from pandas.tslib import OutOfBoundsDatetime\n"
     ]
    }
   ],
   "source": [
    "import os\n",
    "from datetime import datetime as dt\n",
    "from matplotlib import pyplot as plt\n",
    "import numpy as np\n",
    "from matplotlib.patches import Rectangle\n",
    "\n",
    "from FLplot import getFLpathData\n",
    "from samuraiAnalysis import getVarLims,gribTools,plotFLpath,samImport,samPlt,makeKML\n",
    "\n",
    "getFLpathData = getFLpathData.getFLpathData\n",
    "getVarLims = getVarLims.getVarLims\n",
    "gribImport = gribTools.gribImport\n",
    "gribLevs = gribTools.gribLevs\n",
    "plotFLpath = plotFLpath.plotFLpath\n",
    "samImport = samImport.samImport\n",
    "plotContour = samPlt.plotContour\n",
    "plotVec = samPlt.plotVec\n",
    "plotXS = samPlt.plotXS\n",
    "xsCalc = samPlt.xsCrdCalc\n",
    "multXSCrdCalc = samPlt.multXSCrdCalc\n",
    "makeKML = makeKML.makeKML\n",
    "\n",
    "%matplotlib inline"
   ]
  },
  {
   "cell_type": "markdown",
   "metadata": {
    "run_control": {
     "frozen": false,
     "read_only": false
    }
   },
   "source": [
    "### `planContour`\n",
    "Takes a given variable and variable label and using other parameters defined in this notebook, creates plan view contour plots."
   ]
  },
  {
   "cell_type": "code",
   "execution_count": null,
   "metadata": {
    "ExecuteTime": {
     "end_time": "2017-11-07T09:52:12.636333",
     "start_time": "2017-11-07T09:52:12.032298"
    },
    "code_folding": [
     0
    ],
    "collapsed": false,
    "run_control": {
     "frozen": false,
     "read_only": false
    }
   },
   "outputs": [],
   "source": [
    "def planContour(pltVar,pltVarLbl):\n",
    "    \n",
    "    fig,ax,grd,proj = plotContour(pltVar,lev,lon,lat,'map',pltVarLbl,\n",
    "                                  figsize=(10,10),dT=dT,runId=runId,\n",
    "                                  zoom=zoom,mapBnds=mapBnds,NB=noBorder,strmRel=strmRel)\n",
    "    \n",
    "    if pltFT:\n",
    "        plotFLpath(proj,flLon,flLat,dubLine=True)\n",
    "\n",
    "    if pltVec:\n",
    "        plotVec(lon[1::5],lat[1::5],u[lev*2,1::5,1::5],\n",
    "               v[lev*2,1::5,1::5],'map',proj=proj)\n",
    "        \n",
    "    if pltRAP:\n",
    "            plotVec(gribData['lon'],gribData['lat'],gribData['u'][rapLevIx[ix],:,:],\n",
    "                    gribData['v'][rapLevIx[ix],:,:],crds='map',proj=proj,color='white',\n",
    "                    linewidth=1.5,edgecolor='white',quivKeyX=0.08)\n",
    "            plotVec(gribData['lon'],gribData['lat'],gribData['u'][rapLevIx[ix],:,:],\n",
    "                    gribData['v'][rapLevIx[ix],:,:],crds='map',proj=proj,color='blue',\n",
    "                    edgecolor=None,quivKeyX=0.08)\n",
    "\n",
    "    if pltGRlocs:\n",
    "        plt.scatter(lonGR,latGR,marker='d',color='w',s=200,zorder=7,transform=proj)\n",
    "        plt.scatter(lonGR,latGR,marker='d',color='k',s=100,zorder=8,transform=proj)\n",
    "\n",
    "        for labelGR, c, d in zip(grTxt, lonGR, latGR):\n",
    "            plt.annotate(labelGR, xy = (c, d), xytext = (-8, 5),zorder=10,\n",
    "                         textcoords = 'offset points',fontsize=13,color='w',\n",
    "                         bbox=dict(boxstyle=\"round\", fc=\"b\",alpha=0.6,pad=0.01),\n",
    "                         transform=proj)\n",
    "            \n",
    "    if plotXSloc:\n",
    "        if len(xsStrt) > 1:\n",
    "            lbls = []\n",
    "            for iz in range(0,len(xsStrt)):\n",
    "                xsLat,xsLon,dRnd,hdng = xsCalc(xsStrt[iz][0],xsStrt[iz][1],xsEnd[iz][0],xsEnd[iz][1])\n",
    "                ax.plot(xsLon,xsLat,transform=proj,linestyle='-',linewidth=2,color='k')\n",
    "                if iz%2 == 0:\n",
    "                    xyP = (xsStrt[iz][1],xsStrt[iz][0]) # Label the start of the cross section\n",
    "                    xyT = (-25,-25)\n",
    "                else:\n",
    "                    xyP = (xsEnd[iz][1],xsEnd[iz][0]) # Label the end of the cross section\n",
    "                    xyT = (-25,25)\n",
    "                plt.annotate(str(iz+1),xy=xyP,xytext=xyT,zorder=10,transform=proj,\n",
    "                            textcoords='offset points',fontsize=13,color='k',\n",
    "                            bbox=dict(boxstyle=\"round\", fc=\"w\",alpha=0.7,pad=0.04),\n",
    "                            arrowprops=dict(fc='w',ec='k',alpha=0.7,shrink=0.05,width=2,headwidth=8,headlength=8))\n",
    "                if iz == len(xsStrt)-1:\n",
    "                    lbls.append('{} - ({:.2f},{:.2f})-({:.2f},{:.2f})'.format(iz+1,xsStrt[iz][0],xsStrt[iz][1],\n",
    "                                                                              xsEnd[iz][0],xsEnd[iz][1]))\n",
    "                else:\n",
    "                    lbls.append('{} - ({:.2f},{:.2f})-({:.2f},{:.2f})\\n'.format(iz+1,xsStrt[iz][0],xsStrt[iz][1],\n",
    "                                                                                xsEnd[iz][0],xsEnd[iz][1]))\n",
    "\n",
    "            lblStr = ''.join(lbls)\n",
    "            plt.text(0.99,0.99,lblStr,ha='right',va='top',transform=ax.transAxes,\n",
    "                     bbox=dict(boxstyle='square',fc='w',ec='k',pad=0.15,alpha=0.75))\n",
    "            xsStrng = 'multXS'\n",
    "        else:\n",
    "            xsLat,xsLon,dRnd,hdng = xsCalc(xsStrt[0][0],xsStrt[0][1],xsEnd[0][0],xsEnd[0][1])\n",
    "            ax.plot(xsLon,xsLat,transform=proj,linestyle='-',linewidth=2,color='k')\n",
    "            xsStrng = '{:.0f}{:.0f}-{:.0f}{:.0f}'.format(xsStrt[0][0]*10,xsStrt[0][1]*-10,\n",
    "                                                       xsEnd[0][0]*10,xsEnd[0][1]*-10)\n",
    "            \n",
    "        if noBorder:\n",
    "            if strmRel:\n",
    "                saveStr = '{}NB_{}{}_{}_{}-SR_{:.1f}km_{}.{}'.format(savePath,dtSave,runIdSv,'map',pltVarLbl,lev,xsStrng,fType)\n",
    "                fig.savefig(saveStr,bbox_inches='tight',pad_inches=0)\n",
    "            if strmRel:\n",
    "                saveStr = '{}NB_{}{}_{}_{}_{:.1f}km_{}.{}'.format(savePath,dtSave,runIdSv,'map',pltVarLbl,lev,xsStrng,fType)\n",
    "                fig.savefig(saveStr,bbox_inches='tight',pad_inches=0)\n",
    "        else:\n",
    "            if strmRel:\n",
    "                saveStr = '{}{}{}_{}_{}-SR_{:.1f}km_{}.{}'.format(savePath,dtSave,runIdSv,'map',pltVarLbl,lev,\n",
    "                                                                                       xsStrng,fType)\n",
    "            else:\n",
    "                saveStr = '{}{}{}_{}_{}_{:.1f}km_{}.{}'.format(savePath,dtSave,runIdSv,'map',pltVarLbl,lev,\n",
    "                                                                                       xsStrng,fType)\n",
    "            fig.savefig(saveStr,bbox_inches='tight')\n",
    "        \n",
    "    else: \n",
    "        if noBorder:\n",
    "            saveStr = '{}NB_{}{}_{}_{}_{:.1f}km.{}'.format(savePath,dtSave,runIdSv,'map',pltVarLbl,lev,fType)\n",
    "            fig.savefig(saveStr,bbox_inches='tight',pad_inches=0)\n",
    "    \n",
    "        else:\n",
    "            saveStr = '{}{}{}_{}_{}_{:.1f}km.{}'.format(savePath,dtSave,runIdSv,'map',pltVarLbl,lev,fType)\n",
    "            fig.savefig(saveStr,bbox_inches='tight')\n",
    "    \n",
    "    \n",
    "    if saveKML:\n",
    "        kmlSaveStr = '{}NB_{}{}_{}_{}_{:.1f}km.kmz'.format(savePath,dtSave,runIdSv,'map',pltVarLbl,lev)\n",
    "        makeKML(lon.min(),lat.min(),lon.max(),lat.max(),figs=[saveStr],kmzfile=kmlSaveStr)\n",
    "        os.remove(saveStr)\n",
    "\n",
    "\n",
    "    plt.close()"
   ]
  },
  {
   "cell_type": "markdown",
   "metadata": {
    "run_control": {
     "frozen": false,
     "read_only": false
    }
   },
   "source": [
    "### `xsContour`\n",
    "Takes a given variable, variable label, cross-section start/end points, and using other parameters defined in this notebook, creates cross-section contour plots."
   ]
  },
  {
   "cell_type": "code",
   "execution_count": null,
   "metadata": {
    "ExecuteTime": {
     "end_time": "2017-11-07T09:52:12.681543",
     "start_time": "2017-11-07T09:52:12.638321"
    },
    "code_folding": [],
    "collapsed": false,
    "run_control": {
     "frozen": false,
     "read_only": false
    }
   },
   "outputs": [],
   "source": [
    "def xsContour(pltVar,pltVarLbl,xsStrtTmp,xsEndTmp,xsIX):\n",
    "    \n",
    "    lonDiff = np.abs(xsEndTmp[1]-xsStrtTmp[1])\n",
    "    latDiff = np.abs(xsEndTmp[0]-xsStrtTmp[0])\n",
    "    \n",
    "    if latDiff >= lonDiff:\n",
    "        xCrd = 'lat'\n",
    "    else:\n",
    "        xCrd = 'lon'\n",
    "    \n",
    "    fig,ax = plotXS(pltVar,lon,lat,alt,u,v,w,xsStrtTmp,xsEndTmp,\n",
    "                  pltFlag=pltVarLbl,dT=dT,leafSz=leafSz,runId=runId,\n",
    "                  vecPlt=pltVecXS,figsize=(15,5),xCrd=xCrd,strmRel=strmRel)\n",
    "    \n",
    "    if strmRel:\n",
    "        saveStr = '{}{}{}_{}-SR_{}-{}_{:.0f}{:.0f}-{:.0f}{:.0f}.{}'.format(savePath,dtSave,runIdSv,pltVarLbl,'XS',xsIX+1,\n",
    "                                                                      xsStrtTmp[0]*10,xsStrtTmp[1]*-10,\n",
    "                                                                      xsEndTmp[0]*10,xsEndTmp[1]*-10,\n",
    "                                                                       fType)\n",
    "    else:\n",
    "        saveStr = '{}{}{}_{}_{}-{}_{:.0f}{:.0f}-{:.0f}{:.0f}.{}'.format(savePath,dtSave,runIdSv,pltVarLbl,'XS',xsIX+1,\n",
    "                                                                      xsStrtTmp[0]*10,xsStrtTmp[1]*-10,\n",
    "                                                                      xsEndTmp[0]*10,xsEndTmp[1]*-10,\n",
    "                                                                       fType)\n",
    "    fig.savefig(saveStr,bbox_inches='tight')\n",
    "    plt.close()"
   ]
  },
  {
   "cell_type": "markdown",
   "metadata": {
    "run_control": {
     "frozen": false,
     "read_only": false
    }
   },
   "source": [
    "### Case Selection / File Locations\n",
    "`outPrefix` is the name of the directory where the SAMURAI output is located  \n",
    "`samFile` is the full path pointing to the SAMURAI analysis file  \n",
    "`flFile` is the full path pointing to the flight-level data (if used)"
   ]
  },
  {
   "cell_type": "code",
   "execution_count": null,
   "metadata": {
    "ExecuteTime": {
     "end_time": "2017-11-07T09:52:12.947817",
     "start_time": "2017-11-07T09:52:12.684511"
    },
    "code_folding": [],
    "collapsed": false,
    "run_control": {
     "frozen": false,
     "read_only": false
    }
   },
   "outputs": [],
   "source": [
    "flight = '20150706'\n",
    "\n",
    "# outPrefix = 'S3P6_D7D8_fsdabr'\n",
    "# outPrefix = 'P3S1_fsdabr'\n",
    "\n",
    "outPrefix = '0317_SR1-XP-D8-FSD'\n",
    "# outPrefix = '0322_SR1-XP-D8-FSD'\n",
    "\n",
    "\n",
    "strmRel = False\n",
    "if 'P3S1' in outPrefix:\n",
    "    strmU = 5.23\n",
    "    strmV = -3.26\n",
    "elif 'S3P6' in outPrefix:\n",
    "    strmU = 6.235\n",
    "    strmV = -3.6\n",
    "\n",
    "fType = 'png'\n",
    "\n",
    "samPrefix = '/Users/danstechman/GoogleDrive/PECAN-Data/samurai/' + flight + '/'\n",
    "samFile = samPrefix + outPrefix + '/output/samurai_XYZ_analysis.nc'\n",
    "flFile = '/Users/danstechman/GoogleDrive/PECAN-Data/FlightLevelData/Processed/' + flight + '_FltLvl_Processed.nc'\n",
    "gribFile = '/Users/danstechman/GoogleDrive/PECAN-Data/model/RAP/20150706/rap_130_20150706_0400_000.nc'\n",
    "\n",
    "dtDir = True # If True, create a directory named based on current date/time for figure output\n",
    "\n",
    "if dtDir:\n",
    "    dtNow = dt.strftime(dt.now(),'%Y%m%d_%H%M')\n",
    "    savePath = samPrefix + outPrefix + '/figs/' + dtNow + '/'\n",
    "else:\n",
    "    savePath = samPrefix + outPrefix + '/figs/'\n",
    "\n",
    "\n",
    "# Import SAMURAI data\n",
    "samData = samImport(samFile)"
   ]
  },
  {
   "cell_type": "markdown",
   "metadata": {
    "run_control": {
     "frozen": false,
     "read_only": false
    }
   },
   "source": [
    "### Cross-section location(s)\n",
    "If specifying multiple cross-sections, format the `xsStrt`/`xsEnd` vars as lists of tuples (e.g., `xsStrt = [(43.2,-97.9), (43.3,-97.8), ...]`)\n",
    "\n",
    "Here, it is important to double check that the winds within the plane of the cross-section(s) match what is expected based on those seen in the PPI(s). If winds appear to be opposite of those expected, swap the initial and final XS points. _(Still trying to find a way to implement automatic checks for this.)_"
   ]
  },
  {
   "cell_type": "code",
   "execution_count": null,
   "metadata": {
    "ExecuteTime": {
     "end_time": "2017-11-07T09:52:13.041271",
     "start_time": "2017-11-07T09:52:12.950350"
    },
    "collapsed": false,
    "run_control": {
     "frozen": false,
     "read_only": false
    }
   },
   "outputs": [],
   "source": [
    "if 'S3P6' in outPrefix:\n",
    "#     xsStrt = [(43.321,-97.841)]#,(43.2,-98.1),(43.317,-97.52) ]\n",
    "#     xsEnd = [(44.214,-98.298)]#,(44.4,-98.1),(44.063,-97.949)]\n",
    "#     xsEnd = [(44.143,-98.395)]\n",
    "#     xsStrt = [(43.31,-97.92)]\n",
    "    \n",
    "    # Generate a number of parallel cross-sections spaced at a given interval\n",
    "    # starting at some initial set of XS start/end points\n",
    "    dists = np.arange(1,30)\n",
    "    \n",
    "    initLatStrt = 44.1\n",
    "    initLonStrt = -98.576\n",
    "    initLatEnd = 43.275\n",
    "    initLonEnd = -98.051\n",
    "\n",
    "    xsStrt = []\n",
    "    xsEnd = []\n",
    "\n",
    "    for d in dists:\n",
    "        newLatStrt,newLonStrt = multXSCrdCalc(initLatStrt,initLonStrt,d,50.4)\n",
    "        xsStrt.append((newLatStrt,newLonStrt))\n",
    "        \n",
    "        newLatEnd,newLonEnd = multXSCrdCalc(initLatEnd,initLonEnd,d,50.4)\n",
    "        xsEnd.append((newLatEnd,newLonEnd))\n",
    "    \n",
    "elif 'P3S1' in outPrefix:\n",
    "    xsStrt = [(44.86789,-97.50534)] #Mid of spiral\n",
    "    xsEnd = [(44.35309,-96.9209)]\n",
    "\n",
    "    # Generate a number of parallel cross-sections spaced at a given interval\n",
    "    # starting at some initial set of XS start/end points\n",
    "#     dists = np.arange(1,30)\n",
    "    \n",
    "#     initLatStrt = 44.782\n",
    "#     initLonStrt = -97.652\n",
    "#     initLatEnd = 44.2672\n",
    "#     initLonEnd = -97.0663\n",
    "\n",
    "#     xsStrt = []\n",
    "#     xsEnd = []\n",
    "\n",
    "#     for d in dists:\n",
    "#         newLatStrt,newLonStrt = multXSCrdCalc(initLatStrt,initLonStrt,d,50.4)\n",
    "#         xsStrt.append((newLatStrt,newLonStrt))\n",
    "        \n",
    "#         newLatEnd,newLonEnd = multXSCrdCalc(initLatEnd,initLonEnd,d,50.4)\n",
    "#         xsEnd.append((newLatEnd,newLonEnd))"
   ]
  },
  {
   "cell_type": "markdown",
   "metadata": {
    "run_control": {
     "frozen": false,
     "read_only": false
    }
   },
   "source": [
    "### Plan View Plot Controls\n",
    "Specify whether you want plan view plots, and if so, which variables to plot, at what levels, and with which options enabled."
   ]
  },
  {
   "cell_type": "code",
   "execution_count": null,
   "metadata": {
    "ExecuteTime": {
     "end_time": "2017-11-07T09:52:13.232767",
     "start_time": "2017-11-07T09:52:13.043641"
    },
    "collapsed": false,
    "run_control": {
     "frozen": false,
     "read_only": false
    }
   },
   "outputs": [],
   "source": [
    "plotPlanViews = True\n",
    "\n",
    "plotXSloc     = False\n",
    "pltVec        = True\n",
    "pltGRlocs     = True\n",
    "pltFT         = False\n",
    "pltRAP        = False\n",
    "\n",
    "unifyBnds     = False\n",
    "\n",
    "noBorder      = False\n",
    "saveKML       = False\n",
    "\n",
    "pltDBZ  = True\n",
    "pltU    = True\n",
    "pltV    = True\n",
    "pltW    = True\n",
    "pltVort = False\n",
    "pltWndSpd = False\n",
    "\n",
    "### Plan view plot settings ###\n",
    "if plotPlanViews:\n",
    "    pltLevs = samData['alt'][2::2]\n",
    "#     pltLevs = [3]\n",
    "\n",
    "    # These map boundaries will place all of the above runs within a unified map boundary\n",
    "    if unifyBnds:\n",
    "        unifiedMapBnds = [-99.3,-97.1,43.1,45.0]\n",
    "\n",
    "    # Provide locations and label names for ground radars if plotting\n",
    "    if pltGRlocs:\n",
    "        # Ground-based radar names and locations\n",
    "        if outPrefix == 'S3P6_D7D8_fsdabr':\n",
    "            grTxt = ['FSD','ABR','D7','D8']\n",
    "            latGR = [43.583,45.451,43.3864,43.1597]\n",
    "            lonGR = [-96.724,-98.408,-97.7197,-97.6374]\n",
    "        elif outPrefix == '0317_SR1-XP-D8-FSD':\n",
    "            grTxt = ['S1','XP','D8','FSD']\n",
    "            latGR = [43.5243,43.3284,43.1597,43.583]\n",
    "            lonGR = [-98.0047,-97.3252,-97.6374,-96.724]\n",
    "        else:\n",
    "            print('No ground radar locations specified. Setting pltGRlocs to False')\n",
    "            pltGRlocs = False\n",
    "\n",
    "    # Get start/end times for flight tracks\n",
    "    # For the data index of pddSprlTimes, use (leg/sprl # - 1).\n",
    "    # Need to redo this section to better handle different cases\n",
    "    if pltFT:\n",
    "        pddSprlTimes = np.load('/Users/danstechman/GoogleDrive/School/Research/PECAN/Radar/code/samuraiAnalysis/pecan_PDD-Sprl_times/20150706_pddSprl_times.npy')[()]\n",
    "        # PDD 6\n",
    "        if 'P6' in outPrefix and 'S3P6' not in outPrefix:\n",
    "            flS = pddSprlTimes['I20P_strtDT'][5]\n",
    "            flE = pddSprlTimes['I20P_endDT'][5]\n",
    "\n",
    "        # Spiral 3    \n",
    "        elif 'S3' in outPrefix and not any(val in outPrefix for val in ('S3P6','prl')):# 'S3P6' not in outPrefix and 'prl':\n",
    "            flS = pddSprlTimes['I20S_strtDT'][2]\n",
    "            flE = pddSprlTimes['I20S_endDT'][2]\n",
    "\n",
    "        # Spiral3/PDD6 combo\n",
    "        elif 'S3P6' in outPrefix:\n",
    "            flS = pddSprlTimes['I20P_strtDT'][5]\n",
    "            flE = pddSprlTimes['I20S_endDT'][2]\n",
    "\n",
    "        #Purl 1 from Spiral 3:\n",
    "        elif 'prl1' in outPrefix:\n",
    "            flS = dt.strptime('20150706-042710','%Y%m%d-%H%M%S')\n",
    "            flE = dt.strptime('20150706-043152','%Y%m%d-%H%M%S')\n",
    "\n",
    "        else:\n",
    "            raise ValueError('Unknown FL path start/end datetimes')\n",
    "        \n",
    "        \n",
    "        \n",
    "        if 'P3S1' in outPrefix:\n",
    "            # PDD3/Spiral1 combo\n",
    "            flS = pddSprlTimes['I20P_strtDT'][2]\n",
    "            flE = pddSprlTimes['I20S_endDT'][0]\n",
    "        \n",
    "        else:\n",
    "            raise ValueError('FL path start/end datetimes undefined for chosen case')"
   ]
  },
  {
   "cell_type": "markdown",
   "metadata": {
    "run_control": {
     "frozen": false,
     "read_only": false
    }
   },
   "source": [
    "### Cross-Section Plot Controls\n",
    "Specify whether you want cross-section plots, and if so, which variables to plot, and with which options enabled."
   ]
  },
  {
   "cell_type": "code",
   "execution_count": null,
   "metadata": {
    "ExecuteTime": {
     "end_time": "2017-11-07T09:52:13.264930",
     "start_time": "2017-11-07T09:52:13.235008"
    },
    "collapsed": false,
    "run_control": {
     "frozen": false,
     "read_only": false
    }
   },
   "outputs": [],
   "source": [
    "plotXScts = False\n",
    "\n",
    "pltDBZx  = True\n",
    "pltUx    = False\n",
    "pltVx    = False\n",
    "pltWx    = False\n",
    "pltVortX = False\n",
    "pltWndSpdX = False\n",
    "\n",
    "# How many points to average into the cross-section from both sides?\n",
    "leafSz = 15\n",
    "\n",
    "# Plot vectors?\n",
    "pltVecXS = True"
   ]
  },
  {
   "cell_type": "markdown",
   "metadata": {
    "run_control": {
     "frozen": false,
     "read_only": false
    }
   },
   "source": [
    "### <font color='blue'>_End of commonly modified code/variables_</font>\n",
    "### Import Data / Initialize File Saving Parameters"
   ]
  },
  {
   "cell_type": "code",
   "execution_count": null,
   "metadata": {
    "ExecuteTime": {
     "end_time": "2017-11-07T09:52:13.458366",
     "start_time": "2017-11-07T09:52:13.274901"
    },
    "collapsed": false,
    "run_control": {
     "frozen": false,
     "read_only": false
    }
   },
   "outputs": [],
   "source": [
    "# Import data from SAMURAI file\n",
    "dT = samData['time']\n",
    "dbz = samData['dbz']\n",
    "u = samData['u']\n",
    "v = samData['v']\n",
    "w = samData['w']\n",
    "vort = samData['vort']\n",
    "lat = samData['lat']\n",
    "lon = samData['lon']\n",
    "alt = samData['alt']\n",
    "\n",
    "wndSpd = np.sqrt(np.square(u)+np.square(v))\n",
    "\n",
    "if strmRel:\n",
    "    u = u-strmU\n",
    "    v = v-strmV\n",
    "\n",
    "# Set map boundary settings\n",
    "if unifyBnds:\n",
    "    zoom = True\n",
    "    mapBnds = unifiedMapBnds\n",
    "else:\n",
    "    zoom = False\n",
    "    mapBnds = None\n",
    "    \n",
    "    \n",
    "# Check to make sure we're creating borderless figures if saving KML files\n",
    "if saveKML and not noBorder:\n",
    "    print('\\'No border\\' must be True if saving KML. Setting noBorder equal to True...')\n",
    "    noBorder = True\n",
    "\n",
    "\n",
    "# Make the runID and datetime filename-friendly\n",
    "if not pltRAP:\n",
    "    runId = outPrefix\n",
    "else:\n",
    "    runId = outPrefix + '_rapOvr'\n",
    "    \n",
    "    # Import model (RAP) data if desired and match levels\n",
    "    gribData = gribImport(gribFile)\n",
    "    rapLevIx = gribLevs(pltLevs,gribData['geoHght'])\n",
    "\n",
    "runIdSv = '_' + runId.replace('_','-')\n",
    "\n",
    "if dT is not None:\n",
    "    dtSave = dt.strftime(dT,'%Y%m%d_%H%M')\n",
    "else:\n",
    "    dtSave = 'unknownDT'\n",
    "\n",
    "\n",
    "# Import FL data if plotting the flight track\n",
    "if pltFT and plotPlanViews:\n",
    "    flData = getFLpathData(flFile,pathStrt=flS,pathEnd=flE,crdsOnly=True)\n",
    "    flLat = flData['lat']\n",
    "    flLon = flData['lon']\n",
    "    \n",
    "\n",
    "\n",
    "# Make the output figure directory if it doesn't exist\n",
    "if not os.path.exists(savePath):\n",
    "    os.makedirs(savePath)"
   ]
  },
  {
   "cell_type": "markdown",
   "metadata": {
    "run_control": {
     "frozen": false,
     "read_only": false
    }
   },
   "source": [
    "### Generate all desired plan view plots"
   ]
  },
  {
   "cell_type": "code",
   "execution_count": null,
   "metadata": {
    "ExecuteTime": {
     "end_time": "2017-11-07T09:53:26.117420",
     "start_time": "2017-11-07T09:52:13.460498"
    },
    "code_folding": [],
    "collapsed": false,
    "run_control": {
     "frozen": false,
     "read_only": false
    }
   },
   "outputs": [],
   "source": [
    "if plotPlanViews:\n",
    "\n",
    "    for ix in range(0,len(pltLevs)):\n",
    "        lev = pltLevs[ix]\n",
    "\n",
    "        print('Now plotting plan views at {:.2f} km ({} of {})...'.format(lev,ix+1,len(pltLevs)))\n",
    "\n",
    "        if pltDBZ:\n",
    "            planContour(dbz,'dbz')\n",
    "        if pltU:\n",
    "            planContour(u,'u')\n",
    "        if pltV:\n",
    "            planContour(v,'v')\n",
    "        if pltW:\n",
    "            planContour(w,'w')\n",
    "        if pltVort:\n",
    "            planContour(vort,'vort')\n",
    "        if pltWndSpd:\n",
    "            planContour(wndSpd,'wind')"
   ]
  },
  {
   "cell_type": "markdown",
   "metadata": {
    "run_control": {
     "frozen": false,
     "read_only": false
    }
   },
   "source": [
    "### Generate all desired cross-section plots"
   ]
  },
  {
   "cell_type": "code",
   "execution_count": null,
   "metadata": {
    "ExecuteTime": {
     "end_time": "2017-11-07T09:53:26.209484",
     "start_time": "2017-11-07T09:53:26.133824"
    },
    "code_folding": [],
    "collapsed": false,
    "run_control": {
     "frozen": false,
     "read_only": false
    }
   },
   "outputs": [],
   "source": [
    "if plotXScts:\n",
    "\n",
    "    for ix in range(0,len(xsStrt)):\n",
    "\n",
    "        xsStrtTmp = xsStrt[ix]\n",
    "        xsEndTmp = xsEnd[ix]\n",
    "        print('Now plotting cross-section between ({:.2f},{:.2f}) and ({:.2f},{:.2f}) ({} of {})...'.format(xsStrtTmp[0],xsStrtTmp[1],\n",
    "                                                                                                            xsEndTmp[0],xsEndTmp[1],\n",
    "                                                                                                            ix+1,len(xsStrt)))\n",
    "\n",
    "        if pltDBZx:\n",
    "            xsContour(dbz,'dbz',xsStrtTmp,xsEndTmp,ix)\n",
    "        if pltUx:\n",
    "            xsContour(u,'u',xsStrtTmp,xsEndTmp,ix)\n",
    "        if pltVx:\n",
    "            xsContour(v,'v',xsStrtTmp,xsEndTmp,ix)\n",
    "        if pltWx:\n",
    "            xsContour(w,'w',xsStrtTmp,xsEndTmp,ix)\n",
    "        if pltVortX:\n",
    "            xsContour(vort,'vort',xsStrtTmp,xsEndTmp,ix)\n",
    "        if pltWndSpdX:\n",
    "            xsContour(wndSpd,'wind',xsStrtTmp,xsEndTmp,ix)"
   ]
  }
 ],
 "metadata": {
  "anaconda-cloud": {},
  "kernelspec": {
   "display_name": "Python [conda root]",
   "language": "python",
   "name": "conda-root-py"
  },
  "language_info": {
   "codemirror_mode": {
    "name": "ipython",
    "version": 3
   },
   "file_extension": ".py",
   "mimetype": "text/x-python",
   "name": "python",
   "nbconvert_exporter": "python",
   "pygments_lexer": "ipython3",
   "version": "3.5.2"
  }
 },
 "nbformat": 4,
 "nbformat_minor": 1
}
